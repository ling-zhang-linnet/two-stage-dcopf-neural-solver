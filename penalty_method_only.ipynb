{
  "nbformat": 4,
  "nbformat_minor": 0,
  "metadata": {
    "colab": {
      "provenance": [],
      "toc_visible": true
    },
    "kernelspec": {
      "name": "python3",
      "display_name": "Python 3"
    },
    "language_info": {
      "name": "python"
    },
    "gpuClass": "standard"
  },
  "cells": [
    {
      "cell_type": "markdown",
      "source": [
        "# Preparations"
      ],
      "metadata": {
        "id": "0YKGScuOvrpL"
      }
    },
    {
      "cell_type": "code",
      "execution_count": 41,
      "metadata": {
        "id": "z5rIz4irvfV4",
        "colab": {
          "base_uri": "https://localhost:8080/"
        },
        "outputId": "695e9975-94dd-4a1d-b133-437b5b0b910c"
      },
      "outputs": [
        {
          "output_type": "stream",
          "name": "stdout",
          "text": [
            "Drive already mounted at /content/gdrive; to attempt to forcibly remount, call drive.mount(\"/content/gdrive\", force_remount=True).\n"
          ]
        }
      ],
      "source": [
        "# Mount your google drive in google colab\n",
        "from google.colab import drive\n",
        "drive.mount('/content/gdrive')\n",
        "\n",
        "Dir_Path = '/content/gdrive/MyDrive/Workspace/codes_data/TwoStageDCOPF118/'"
      ]
    },
    {
      "cell_type": "code",
      "source": [
        "!pip install pyomo\n",
        "!apt-get -qq install gcc g++ gfortran git patch wget pkg-config liblapack-dev libmetis-dev\n",
        "!wget -N -q \"https://portal.ampl.com/dl/open/ipopt/ipopt-linux64.zip\"\n",
        "!unzip -o -q ipopt-linux64\n",
        "!apt-get install -y -qq glpk-utils\n",
        "\n",
        "from pyomo.environ import SolverFactory, ConcreteModel, Set, Param, Var, Objective, minimize, Constraint\n",
        "from pyomo.environ import SolverStatus, TerminationCondition"
      ],
      "metadata": {
        "colab": {
          "base_uri": "https://localhost:8080/"
        },
        "id": "VPtEFMf0GxtI",
        "outputId": "bd393bab-f6d4-4c4c-df3b-7fd594bf50ed"
      },
      "execution_count": 42,
      "outputs": [
        {
          "output_type": "stream",
          "name": "stdout",
          "text": [
            "Looking in indexes: https://pypi.org/simple, https://us-python.pkg.dev/colab-wheels/public/simple/\n",
            "Requirement already satisfied: pyomo in /usr/local/lib/python3.8/dist-packages (6.4.4)\n",
            "Requirement already satisfied: ply in /usr/local/lib/python3.8/dist-packages (from pyomo) (3.11)\n"
          ]
        }
      ]
    },
    {
      "cell_type": "markdown",
      "source": [
        "# Imports"
      ],
      "metadata": {
        "id": "5DbOrSBlvv8a"
      }
    },
    {
      "cell_type": "code",
      "source": [
        "# import libariries\n",
        "import sys\n",
        "import os\n",
        "import numpy as np\n",
        "from matplotlib import pyplot as plt\n",
        "%matplotlib inline\n",
        "from scipy.linalg import cholesky\n",
        "import pandas as pd\n",
        "import json\n",
        "import time\n",
        "import cvxpy as cp\n",
        "import random\n",
        "import math"
      ],
      "metadata": {
        "id": "14aFFxfyvxeD"
      },
      "execution_count": 43,
      "outputs": []
    },
    {
      "cell_type": "markdown",
      "source": [
        "# Constants"
      ],
      "metadata": {
        "id": "culvX2oEv0dM"
      }
    },
    {
      "cell_type": "code",
      "source": [
        "Data_Set_Path = Dir_Path + 'data/'\n",
        "Results_Path = Dir_Path + 'effectiveness/'\n",
        "Pre_Train_Path = Dir_Path + 'approach/'\n",
        "Params_Path = Dir_Path + 'setup/'\n",
        "Load_Corr_Mat_Dir_Path = Data_Set_Path\n",
        "\n",
        "RT_Load_Stdev_Factor = 0.05\n",
        "Scenario_Forecasts_Stdev_Factor = 0.05\n",
        "Reserve_Price_Factor = 1.5\n",
        "\n",
        "gamma_res = 10\n",
        "gamma_gen = 1000\n",
        "gamma_line = 100\n",
        "delta_gen = 0.95\n",
        "delta_line = 0.98\n",
        "\n",
        "random.seed(123456)\n",
        "np.random.seed(456123)\n",
        "\n",
        "# *========== NETWORK TOPOLOGY ==========\n",
        "listOfNums = json.load(open(Params_Path + 'listOfAllNums', 'r'))\n",
        "Num_Buses = listOfNums['numBuses']\n",
        "Num_Gen = listOfNums['numGen']\n",
        "Num_Lines = listOfNums['numLines']\n",
        "Slack_Bus_No = listOfNums['slackBusNo']\n",
        "Slack_Bus_Col = Slack_Bus_No - 1\n",
        "print('Slack_Bus_No:', Slack_Bus_No)\n",
        "\n",
        "nominal_loads = np.load(Params_Path + 'predMeanDemand.npy')\n",
        "\n",
        "# map PQ buses to all buses\n",
        "# loadList = json.load(open(paramsPath + 'loadList', 'r'))\n",
        "pos_loads_at_buses = json.load(open(Params_Path + 'posDemandsList', 'r'))\n",
        "\n",
        "# mask out buses with zero load\n",
        "zero_loads_at_buses = []\n",
        "for i in range(Num_Buses):\n",
        "    idx = i + 1\n",
        "    if idx not in pos_loads_at_buses:\n",
        "        zero_loads_at_buses.append(True)\n",
        "    else:\n",
        "        zero_loads_at_buses.append(False)\n",
        "\n",
        "B = np.load(Params_Path + 'fullB.npy')\n",
        "F = np.load(Params_Path + 'fullF.npy')\n",
        "\n",
        "Bns = np.delete(B.copy(), Slack_Bus_Col, axis=1)\n",
        "Fns = np.delete(F.copy(), Slack_Bus_Col, axis=1)\n",
        "print('Bns:', Bns.shape)\n",
        "print('Fns:', Fns.shape)\n",
        "\n",
        "Gen_Price = np.load(Params_Path + 'regGenCost.npy')\n",
        "\n",
        "# scale reserves cost by suitable factor\n",
        "Gen_Pos_Res_Price = [i * Reserve_Price_Factor for i in Gen_Price]\n",
        "Gen_Neg_Res_Price = Gen_Pos_Res_Price\n",
        "print('Gen_Pos_Res_Price:', len(Gen_Pos_Res_Price))\n",
        "\n",
        "Gen_Max_Pow = np.load(Params_Path + 'regGenMaxP.npy')\n",
        "Gen_Min_Pow = np.load(Params_Path + 'regGenMinP.npy')\n",
        "Flow_Max_Limit = np.load(Params_Path + 'flow_max.npy')\n",
        "theta_max = np.pi / 2\n",
        "print('Gen_Max_Pow:', Gen_Max_Pow.shape)\n",
        "print('Gen_Min_Pow:', Gen_Min_Pow.shape)\n",
        "\n",
        "Gen_List = json.load(open(Params_Path + 'regGenList', 'r'))\n",
        "gen_to_bus = [x-1 for x in Gen_List]\n",
        "nongen_to_bus = []\n",
        "for x in range(Num_Buses):\n",
        "    if x not in gen_to_bus:\n",
        "        nongen_to_bus.append(x)\n",
        "print('len(Gen_List):', len(Gen_List))\n",
        "print('gen_to_bus:', gen_to_bus)\n",
        "\n",
        "ns_bus_list = []\n",
        "for x in range(Num_Buses):\n",
        "    if x == Slack_Bus_No-1:\n",
        "        continue\n",
        "    ns_bus_list.append(x)\n",
        "print('len(ns_bus_list):', len(ns_bus_list))\n",
        "print(ns_bus_list)\n",
        "\n",
        "Gen_Price = np.array(Gen_Price).reshape(-1, 1)\n",
        "Gen_Pos_Res_Price = np.array(Gen_Pos_Res_Price).reshape(-1, 1)\n",
        "Gen_Neg_Res_Price = np.array(Gen_Neg_Res_Price).reshape(-1, 1)\n",
        "Gen_Max_Pow = np.array(Gen_Max_Pow).reshape(-1, 1)\n",
        "Gen_Min_Pow = np.array(Gen_Min_Pow).reshape(-1, 1)\n",
        "Flow_Max_Limit = Flow_Max_Limit .reshape(-1, 1)\n",
        "\n",
        "Bus_Price = np.zeros((Num_Buses, 1))\n",
        "Bus_Pos_Res_Price = np.zeros((Num_Buses, 1))\n",
        "Bus_Neg_Res_Price = np.zeros((Num_Buses, 1))\n",
        "Bus_Max_Pow = np.zeros((Num_Buses, 1))\n",
        "Bus_Min_Pow = np.zeros((Num_Buses, 1))\n",
        "\n",
        "Bus_Price[gen_to_bus, :] = Gen_Price\n",
        "Bus_Pos_Res_Price[gen_to_bus, :] = Gen_Pos_Res_Price\n",
        "Bus_Neg_Res_Price[gen_to_bus, :] = Gen_Neg_Res_Price\n",
        "Bus_Max_Pow[gen_to_bus, :] = Gen_Max_Pow\n",
        "Bus_Min_Pow[gen_to_bus, :] = Gen_Min_Pow\n",
        "\n",
        "print('Bus_Price:', Bus_Price[:10,:])\n",
        "print('Bus_Pos_Res_Price:', Bus_Pos_Res_Price[:10,:])\n",
        "print('Bus_Neg_Res_Price:', Bus_Neg_Res_Price[:10,:])\n",
        "print('Bus_Max_Pow:', Bus_Max_Pow[:10,:])\n",
        "print('Bus_Min_Pow:', Bus_Min_Pow[:10,:])\n",
        "\n",
        "\n",
        "proj_to_gen_buses = np.eye(Num_Buses)\n",
        "proj_to_nongen_buses = np.eye(Num_Buses)\n",
        "for i in range(Num_Buses):\n",
        "    bus_no = int(i)\n",
        "    if bus_no not in gen_to_bus:\n",
        "        print(str(bus_no) + ' is not gen.')\n",
        "        proj_to_gen_buses[i, i] = 0\n",
        "    else:\n",
        "        print(str(bus_no) + ' is gen.')\n",
        "        proj_to_nongen_buses[i, i] = 0\n",
        "print('proj_to_gen_buses:', proj_to_gen_buses)\n",
        "print('proj_to_nongen_buses:', proj_to_nongen_buses)\n",
        "\n",
        "print(np.sum(proj_to_gen_buses))\n",
        "print(np.sum(proj_to_nongen_buses))"
      ],
      "metadata": {
        "id": "WzGp-l21vzbD",
        "colab": {
          "base_uri": "https://localhost:8080/"
        },
        "outputId": "0a14ed6f-e060-493e-b1ed-5436d2ecaa47"
      },
      "execution_count": 44,
      "outputs": [
        {
          "output_type": "stream",
          "name": "stdout",
          "text": [
            "Slack_Bus_No: 69\n",
            "Bns: (118, 117)\n",
            "Fns: (186, 117)\n",
            "Gen_Pos_Res_Price: 54\n",
            "Gen_Max_Pow: (54,)\n",
            "Gen_Min_Pow: (54,)\n",
            "len(Gen_List): 54\n",
            "gen_to_bus: [0, 3, 5, 7, 9, 11, 14, 17, 18, 23, 24, 25, 26, 30, 31, 33, 35, 39, 41, 45, 48, 53, 54, 55, 58, 60, 61, 64, 65, 68, 69, 71, 72, 73, 75, 76, 79, 84, 86, 88, 89, 90, 91, 98, 99, 102, 103, 104, 106, 109, 110, 111, 112, 115]\n",
            "len(ns_bus_list): 117\n",
            "[0, 1, 2, 3, 4, 5, 6, 7, 8, 9, 10, 11, 12, 13, 14, 15, 16, 17, 18, 19, 20, 21, 22, 23, 24, 25, 26, 27, 28, 29, 30, 31, 32, 33, 34, 35, 36, 37, 38, 39, 40, 41, 42, 43, 44, 45, 46, 47, 48, 49, 50, 51, 52, 53, 54, 55, 56, 57, 58, 59, 60, 61, 62, 63, 64, 65, 66, 67, 69, 70, 71, 72, 73, 74, 75, 76, 77, 78, 79, 80, 81, 82, 83, 84, 85, 86, 87, 88, 89, 90, 91, 92, 93, 94, 95, 96, 97, 98, 99, 100, 101, 102, 103, 104, 105, 106, 107, 108, 109, 110, 111, 112, 113, 114, 115, 116, 117]\n",
            "Bus_Price: [[13.1219 ]\n",
            " [ 0.     ]\n",
            " [ 0.     ]\n",
            " [13.1219 ]\n",
            " [ 0.     ]\n",
            " [13.1219 ]\n",
            " [ 0.     ]\n",
            " [ 6.44375]\n",
            " [ 0.     ]\n",
            " [ 3.44375]]\n",
            "Bus_Pos_Res_Price: [[19.68285 ]\n",
            " [ 0.      ]\n",
            " [ 0.      ]\n",
            " [19.68285 ]\n",
            " [ 0.      ]\n",
            " [19.68285 ]\n",
            " [ 0.      ]\n",
            " [ 9.665625]\n",
            " [ 0.      ]\n",
            " [ 5.165625]]\n",
            "Bus_Neg_Res_Price: [[19.68285 ]\n",
            " [ 0.      ]\n",
            " [ 0.      ]\n",
            " [19.68285 ]\n",
            " [ 0.      ]\n",
            " [19.68285 ]\n",
            " [ 0.      ]\n",
            " [ 9.665625]\n",
            " [ 0.      ]\n",
            " [ 5.165625]]\n",
            "Bus_Max_Pow: [[150.]\n",
            " [  0.]\n",
            " [  0.]\n",
            " [150.]\n",
            " [  0.]\n",
            " [150.]\n",
            " [  0.]\n",
            " [250.]\n",
            " [  0.]\n",
            " [250.]]\n",
            "Bus_Min_Pow: [[0.]\n",
            " [0.]\n",
            " [0.]\n",
            " [0.]\n",
            " [0.]\n",
            " [0.]\n",
            " [0.]\n",
            " [0.]\n",
            " [0.]\n",
            " [0.]]\n",
            "0 is gen.\n",
            "1 is not gen.\n",
            "2 is not gen.\n",
            "3 is gen.\n",
            "4 is not gen.\n",
            "5 is gen.\n",
            "6 is not gen.\n",
            "7 is gen.\n",
            "8 is not gen.\n",
            "9 is gen.\n",
            "10 is not gen.\n",
            "11 is gen.\n",
            "12 is not gen.\n",
            "13 is not gen.\n",
            "14 is gen.\n",
            "15 is not gen.\n",
            "16 is not gen.\n",
            "17 is gen.\n",
            "18 is gen.\n",
            "19 is not gen.\n",
            "20 is not gen.\n",
            "21 is not gen.\n",
            "22 is not gen.\n",
            "23 is gen.\n",
            "24 is gen.\n",
            "25 is gen.\n",
            "26 is gen.\n",
            "27 is not gen.\n",
            "28 is not gen.\n",
            "29 is not gen.\n",
            "30 is gen.\n",
            "31 is gen.\n",
            "32 is not gen.\n",
            "33 is gen.\n",
            "34 is not gen.\n",
            "35 is gen.\n",
            "36 is not gen.\n",
            "37 is not gen.\n",
            "38 is not gen.\n",
            "39 is gen.\n",
            "40 is not gen.\n",
            "41 is gen.\n",
            "42 is not gen.\n",
            "43 is not gen.\n",
            "44 is not gen.\n",
            "45 is gen.\n",
            "46 is not gen.\n",
            "47 is not gen.\n",
            "48 is gen.\n",
            "49 is not gen.\n",
            "50 is not gen.\n",
            "51 is not gen.\n",
            "52 is not gen.\n",
            "53 is gen.\n",
            "54 is gen.\n",
            "55 is gen.\n",
            "56 is not gen.\n",
            "57 is not gen.\n",
            "58 is gen.\n",
            "59 is not gen.\n",
            "60 is gen.\n",
            "61 is gen.\n",
            "62 is not gen.\n",
            "63 is not gen.\n",
            "64 is gen.\n",
            "65 is gen.\n",
            "66 is not gen.\n",
            "67 is not gen.\n",
            "68 is gen.\n",
            "69 is gen.\n",
            "70 is not gen.\n",
            "71 is gen.\n",
            "72 is gen.\n",
            "73 is gen.\n",
            "74 is not gen.\n",
            "75 is gen.\n",
            "76 is gen.\n",
            "77 is not gen.\n",
            "78 is not gen.\n",
            "79 is gen.\n",
            "80 is not gen.\n",
            "81 is not gen.\n",
            "82 is not gen.\n",
            "83 is not gen.\n",
            "84 is gen.\n",
            "85 is not gen.\n",
            "86 is gen.\n",
            "87 is not gen.\n",
            "88 is gen.\n",
            "89 is gen.\n",
            "90 is gen.\n",
            "91 is gen.\n",
            "92 is not gen.\n",
            "93 is not gen.\n",
            "94 is not gen.\n",
            "95 is not gen.\n",
            "96 is not gen.\n",
            "97 is not gen.\n",
            "98 is gen.\n",
            "99 is gen.\n",
            "100 is not gen.\n",
            "101 is not gen.\n",
            "102 is gen.\n",
            "103 is gen.\n",
            "104 is gen.\n",
            "105 is not gen.\n",
            "106 is gen.\n",
            "107 is not gen.\n",
            "108 is not gen.\n",
            "109 is gen.\n",
            "110 is gen.\n",
            "111 is gen.\n",
            "112 is gen.\n",
            "113 is not gen.\n",
            "114 is not gen.\n",
            "115 is gen.\n",
            "116 is not gen.\n",
            "117 is not gen.\n",
            "proj_to_gen_buses: [[1. 0. 0. ... 0. 0. 0.]\n",
            " [0. 0. 0. ... 0. 0. 0.]\n",
            " [0. 0. 0. ... 0. 0. 0.]\n",
            " ...\n",
            " [0. 0. 0. ... 1. 0. 0.]\n",
            " [0. 0. 0. ... 0. 0. 0.]\n",
            " [0. 0. 0. ... 0. 0. 0.]]\n",
            "proj_to_nongen_buses: [[0. 0. 0. ... 0. 0. 0.]\n",
            " [0. 1. 0. ... 0. 0. 0.]\n",
            " [0. 0. 1. ... 0. 0. 0.]\n",
            " ...\n",
            " [0. 0. 0. ... 0. 0. 0.]\n",
            " [0. 0. 0. ... 0. 1. 0.]\n",
            " [0. 0. 0. ... 0. 0. 1.]]\n",
            "54.0\n",
            "64.0\n"
          ]
        }
      ]
    },
    {
      "cell_type": "markdown",
      "source": [
        "# Benchmarks\n",
        "\n",
        "\n",
        "---\n",
        "\n"
      ],
      "metadata": {
        "id": "GHbtTPTZTz1o"
      }
    },
    {
      "cell_type": "markdown",
      "source": [
        "## SAA (CVXPY)"
      ],
      "metadata": {
        "id": "zrvG9wnvT-kQ"
      }
    },
    {
      "cell_type": "code",
      "source": [
        "# implement saa method using CVXPY\n",
        "def implement_saa(inputDemands, num_scens, file_name):\n",
        "    numInstance = inputDemands.shape[0]\n",
        "\n",
        "    # *====== CONSTRUCT SCENARIOS FOR EACH INSTANCE =======\n",
        "    all_d_omega = np.zeros((num_scens, Num_Buses, numInstance))\n",
        "    for t in range(numInstance):\n",
        "        d_omega = load_sampling(inputDemands[t, :], num_scens)\n",
        "        all_d_omega[:, :, t] = d_omega\n",
        "\n",
        "    # define sets and indexes\n",
        "    # to be compatible with numpy data indexes, use Set() and initialize with numpy range\n",
        "    busSet = range(Num_Buses)\n",
        "    scenSet = range(num_scens)\n",
        "\n",
        "    bus_max_pow = Bus_Max_Pow.reshape(-1, 1)\n",
        "    bus_min_pow = Bus_Min_Pow.reshape(-1, 1)\n",
        "    flow_max_limit = Flow_Max_Limit.reshape(-1, 1)\n",
        "\n",
        "    # dictionary to store results for all instances\n",
        "    solns = dict()\n",
        "    solns['estimateTotalCost'] = []\n",
        "    solns['c_gen'] = []\n",
        "    solns['c_res'] = []\n",
        "    solns['c_fs'] = []\n",
        "    solns['c_rcs'] = []\n",
        "    solns['x'] = []\n",
        "    solns['rp'] = []\n",
        "    solns['rd'] = []\n",
        "\n",
        "    for t in range(numInstance):\n",
        "        start_time = time.time()\n",
        "\n",
        "        # *====== FOR EACH INSTANCE =======\n",
        "        d_omega = all_d_omega[:, :, t].T\n",
        "\n",
        "        # define first-stage variables\n",
        "        x = cp.Variable(shape=(Num_Buses, 1), name='x')\n",
        "        rp = cp.Variable(shape=(Num_Buses, 1), name='rp')\n",
        "        rd = cp.Variable(shape=(Num_Buses, 1), name='rd')\n",
        "\n",
        "        # define second-stage variables\n",
        "        theta = cp.Variable(shape=(Num_Buses - 1, num_scens), name='theta')\n",
        "        y = cp.Variable(shape=(Num_Buses, num_scens), name='p')\n",
        "\n",
        "        # define constraints\n",
        "        # add operational and phase angle limits and power flow equations\n",
        "        constraints = [\n",
        "            # cp.sum(x) == np.sum(inputDemands[t, :]),\n",
        "            x <= bus_max_pow,\n",
        "            x >= bus_min_pow,\n",
        "            x + rp <= bus_max_pow,\n",
        "            x - rd >= bus_min_pow,\n",
        "            rp >= np.zeros_like(rp),\n",
        "            rd >= np.zeros_like(rd),\n",
        "            theta <= theta_max * np.ones_like(theta),\n",
        "            theta >= -theta_max * np.ones_like(theta),\n",
        "            x + y <= np.repeat(bus_max_pow, num_scens, axis=1),\n",
        "            x + y >= np.repeat(bus_min_pow, num_scens, axis=1),\n",
        "            Fns @ theta <= np.repeat(flow_max_limit, num_scens, axis=1),\n",
        "            Fns @ theta >= -np.repeat(flow_max_limit, num_scens, axis=1),\n",
        "            x + y == Bns @ theta + d_omega\n",
        "        ]\n",
        "\n",
        "        # if fsConstrainID == 'addFSBalance':\n",
        "        #     constraints += [cp.sum(x) == np.sum(inputDemands[t, :])]\n",
        "\n",
        "        c_gen = sum(Bus_Price[i] * x[i, 0]\n",
        "                    for i in busSet)\n",
        "\n",
        "        c_res = sum(Bus_Pos_Res_Price[i] * rp[i, 0] + Bus_Neg_Res_Price[i] * rd[i, 0]\n",
        "                    for i in busSet)\n",
        "\n",
        "        c_fs = c_gen + c_res\n",
        "\n",
        "        c_rcs = (1.0 / num_scens) * sum(\n",
        "            gamma_res * Bus_Pos_Res_Price[i] * cp.maximum(y[i, scen] - rp[i, 0], 0.0) +\n",
        "            gamma_res * Bus_Neg_Res_Price[i] * cp.maximum(- rd[i, 0] - y[i, scen], 0.0)\n",
        "            for scen in scenSet for i in busSet)\n",
        "\n",
        "        problem = cp.Problem(cp.Minimize(c_fs + c_rcs), constraints)\n",
        "\n",
        "        problem.solve()\n",
        "\n",
        "        # if problem.status not in [\"infeasible\", \"unbounded\"]:\n",
        "        #     # Otherwise, problem.value is inf or -inf, respectively.\n",
        "        #     print(\"Optimal value: %s\" % problem.value)\n",
        "        #     for variable in problem.variables():\n",
        "        #         print(\"Variable %s: value %s\" % (variable.name(), variable.value))\n",
        "\n",
        "        if problem.status in [\"infeasible\", \"unbounded\"]:\n",
        "            print(\"Model not solved to (sub)optimality using CVXPY!!!\")\n",
        "            print(\"solve_status: \", problem.status)\n",
        "            sys.exit(0)\n",
        "\n",
        "        print(\"Instance: %d Problem status: %s \" % (t, problem.status))\n",
        "\n",
        "        solns['estimateTotalCost'] += [c_fs.value.item() + c_rcs.value.item()]\n",
        "        solns['c_gen'] += [c_gen.value.item()]\n",
        "        solns['c_res'] += [c_res.value.item()]\n",
        "        solns['c_fs'] += [c_fs.value.item()]\n",
        "        solns['c_rcs'] += [c_rcs.value.item()]\n",
        "        solns['x'] += [list(x.value[:, 0])]\n",
        "        solns['rp'] += [list(rp.value[:, 0])]\n",
        "        solns['rd'] += [list(rd.value[:, 0])]\n",
        "\n",
        "        print('Solving tims for instance %d is %.2f minutes.' % (t, (time.time() - start_time) / 60))\n",
        "\n",
        "        if file_name:\n",
        "            json.dump(solns, open(Results_Path + file_name, 'w'))\n",
        "\n",
        "    return solns"
      ],
      "metadata": {
        "id": "SYKyl_eMT4Gw"
      },
      "execution_count": 45,
      "outputs": []
    },
    {
      "cell_type": "markdown",
      "source": [
        "## Determine Affine Policy II"
      ],
      "metadata": {
        "id": "5vHNsFWaidmL"
      }
    },
    {
      "cell_type": "code",
      "source": [
        "def determine_affine_policyII(forecasts, num_scens, file_name=None):\n",
        "    # *====== CONSTRUCT SCENARIOS FOR EACH INSTANCE =======\n",
        "    d_omega = load_sampling(forecasts, num_scens)\n",
        "    print('d_omega:', d_omega.shape) #d_omega: (100, 118)\n",
        "\n",
        "\n",
        "    # Google colab\n",
        "    saa_solver = SolverFactory('ipopt', executable='/content/ipopt')\n",
        "    # otherwise\n",
        "    # saa_solver = SolverFactory('ipopt')\n",
        "\n",
        "    # initialize model\n",
        "    saa_model = ConcreteModel()\n",
        "\n",
        "    scen_idx = range(num_scens)\n",
        "    bus_idx = range(Num_Buses)\n",
        "\n",
        "    # define sets and indexes\n",
        "    # to be compatible with numpy data indexes, use Set() and initialize with numpy range\n",
        "    saa_model.bus_idx = Set(initialize=range(Num_Buses))\n",
        "    saa_model.line_idx = Set(initialize=range(Num_Lines))\n",
        "    saa_model.scen_idx = Set(initialize=range(num_scens))\n",
        "    saa_model.ns_bus_idx = Set(initialize=range(Num_Buses - 1))\n",
        "\n",
        "    bus_max_pow = Bus_Max_Pow[:, 0]\n",
        "    bus_min_pow = Bus_Min_Pow[:, 0]\n",
        "    flow_max_limit = Flow_Max_Limit[:, 0]\n",
        "    bus_price = Bus_Price[:, 0]\n",
        "    bus_pos_res_price = Bus_Pos_Res_Price[:, 0]\n",
        "    bus_neg_reg_price = Bus_Neg_Res_Price[:, 0]\n",
        "    gen_list = [x - 1 for x in Gen_List]\n",
        "\n",
        "    # define data\n",
        "    demandSum_data = [0.0] * num_scens\n",
        "    dev_data = [0.0] * num_scens\n",
        "\n",
        "    d_omega_data = dict()\n",
        "    for u in scen_idx:\n",
        "        for v in bus_idx:\n",
        "            d_omega_data[u, v] = 0.\n",
        "\n",
        "    # saa_model.sumMeanDemand = Param(initialize=0., mutable=True)\n",
        "    # saa_model.sumDemandDeviations = Param(saa_model.scen_idx, initialize=dev_data, mutable=True)\n",
        "    saa_model.sumRealTimeDemand = Param(saa_model.scen_idx, initialize=demandSum_data, mutable=True)\n",
        "    saa_model.d_omega = Param(saa_model.scen_idx, saa_model.bus_idx, initialize=d_omega_data, mutable=True)\n",
        "\n",
        "    # define functions for bounds and objective rules\n",
        "    def x_bounds(model, i):\n",
        "        return bus_min_pow[i], bus_max_pow[i]\n",
        "\n",
        "    def r_bounds(model, i):\n",
        "        return 0., bus_max_pow[i] - bus_min_pow[i]\n",
        "\n",
        "    def nonNegativeReals(model, i, j):\n",
        "        return 0., np.inf\n",
        "\n",
        "    def lambda_bounds(model, i):\n",
        "        return 0., 1.\n",
        "\n",
        "    def theta_bounds(model, i, scen):\n",
        "        return -theta_max, theta_max\n",
        "\n",
        "    def obj_rule(model):\n",
        "        return sum(bus_price[i] * model.x[i] +\n",
        "                   bus_pos_res_price[i] * model.rp[i] +\n",
        "                   bus_neg_reg_price[i] * model.rd[i]\n",
        "                   for i in model.bus_idx) + \\\n",
        "               (1.0 / num_scens) * gamma_res * sum(bus_pos_res_price[i] * model.posResViol[i, scen] +\n",
        "                                                    bus_neg_reg_price[i] * model.negResViol[i, scen]\n",
        "                                                    for scen in model.scen_idx for i in model.bus_idx) + \\\n",
        "               (1.0 / num_scens) * gamma_line * sum(model.lineViol[k, scen] ** 2\n",
        "                                       for scen in model.scen_idx for k in model.line_idx) + \\\n",
        "               (1.0 / num_scens) * gamma_gen * sum(model.genBoundViol[i, scen] ** 2\n",
        "                                       for scen in model.scen_idx for i in model.bus_idx)\n",
        "\n",
        "    # first-stage variables\n",
        "    saa_model.x = Var(saa_model.bus_idx, bounds=x_bounds)\n",
        "    saa_model.rp = Var(saa_model.bus_idx, bounds=r_bounds)\n",
        "    saa_model.rd = Var(saa_model.bus_idx, bounds=r_bounds)\n",
        "    saa_model.lambd = Var(saa_model.bus_idx, bounds=lambda_bounds)\n",
        "\n",
        "    # recourse variables\n",
        "    saa_model.y = Var(saa_model.bus_idx, saa_model.scen_idx)\n",
        "    saa_model.theta = Var(saa_model.ns_bus_idx, saa_model.scen_idx, bounds=theta_bounds)\n",
        "\n",
        "    # auxiliary variables\n",
        "    saa_model.posResViol = Var(saa_model.bus_idx, saa_model.scen_idx, bounds=nonNegativeReals)\n",
        "    saa_model.negResViol = Var(saa_model.bus_idx, saa_model.scen_idx, bounds=nonNegativeReals)\n",
        "    saa_model.lineViol = Var(saa_model.line_idx, saa_model.scen_idx, bounds=nonNegativeReals)\n",
        "    saa_model.genBoundViol = Var(saa_model.bus_idx, saa_model.scen_idx, bounds=nonNegativeReals)\n",
        "\n",
        "    # objective function\n",
        "    saa_model.obj = Objective(rule=obj_rule, sense=minimize)\n",
        "\n",
        "    # first-stage constraints\n",
        "    def fsConstr2(model, i):\n",
        "        return model.x[i] + model.rp[i] <= bus_max_pow[i]\n",
        "\n",
        "    def fsConstr3(model, i):\n",
        "        return model.x[i] - model.rd[i] >= bus_min_pow[i]\n",
        "\n",
        "    def fsConstr4(model):\n",
        "        return sum(model.lambd[i] for i in model.bus_idx) == 1.\n",
        "\n",
        "    def fsConstr5(model, i):\n",
        "        if i not in gen_list:\n",
        "            return model.lambd[i] == 0.0\n",
        "        else:\n",
        "            return model.lambd[i] <= 1.0\n",
        "\n",
        "    saa_model.fsConstr2 = Constraint(saa_model.bus_idx, rule=fsConstr2)\n",
        "    saa_model.fsConstr3 = Constraint(saa_model.bus_idx, rule=fsConstr3)\n",
        "    saa_model.fsConstr4 = Constraint(rule=fsConstr4)\n",
        "    saa_model.fsConstr5 = Constraint(saa_model.bus_idx, rule=fsConstr5)\n",
        "\n",
        "    # constraints that define p: affine recourse policy without worrying about generation limits\n",
        "    def recoursePolicyConstr(model, i, scen):\n",
        "\n",
        "        return model.y[i, scen] == model.lambd[i] * \\\n",
        "               (model.sumRealTimeDemand[scen] - sum(model.x[n] for n in model.bus_idx))\n",
        "\n",
        "    # power flow equations\n",
        "    def powFlowConstr(model, i, scen):\n",
        "\n",
        "        return model.x[i] + model.y[i, scen] == sum(\n",
        "            Bns[i, k] * model.theta[k, scen] for k in model.ns_bus_idx) + model.d_omega[scen, i]\n",
        "\n",
        "    # auxiliary constraints for violations of positive and negative reserves\n",
        "    def posResViolConstr(model, i, scen):\n",
        "        return model.posResViol[i, scen] >= model.y[i, scen] - model.rp[i]\n",
        "\n",
        "    def negResViolConstr(model, i, scen):\n",
        "        return model.negResViol[i, scen] >= - model.rd[i] - model.y[i, scen]\n",
        "\n",
        "    # auxiliary constraints for line violations\n",
        "    def lineFlowViolConstr1(model, k, scen):\n",
        "        return model.lineViol[k, scen] >= sum(Fns[k, j] * model.theta[j, scen] for j in model.ns_bus_idx) - \\\n",
        "               delta_line*flow_max_limit[k]\n",
        "\n",
        "    def lineFlowViolConstr2(model, k, scen):\n",
        "        return model.lineViol[k, scen] >= -sum(Fns[k, j] * model.theta[j, scen] for j in model.ns_bus_idx) - \\\n",
        "               delta_line*flow_max_limit[k]\n",
        "\n",
        "    # generator bounds violation\n",
        "    # def genBoundViolConstr1(model, i, scen):\n",
        "    #     return model.genBoundViol[i, scen] >= (model.x[i]+model.y[i, scen]) -\\\n",
        "    #            (bus_min_pow[i] + delta_gen*(bus_max_pow[i]-bus_min_pow[i]))\n",
        "\n",
        "    # def genBoundViolConstr2(model, i, scen):\n",
        "    #     return model.genBoundViol[i, scen] >= bus_min_pow[i] + \\\n",
        "    #            (1-delta_gen)*(bus_max_pow[i] - bus_min_pow[i]) - (model.x[i]+model.y[i, scen])\n",
        "    def genBoundViolConstr1(model, i, scen):\n",
        "        return model.genBoundViol[i, scen] >= (model.x[i]+model.y[i, scen]) - bus_max_pow[i]\n",
        "\n",
        "    def genBoundViolConstr2(model, i, scen):\n",
        "        return model.genBoundViol[i, scen] >= bus_min_pow[i] - (model.x[i]+model.y[i, scen])\n",
        "\n",
        "    saa_model.rcsConstr1 = Constraint(saa_model.bus_idx, saa_model.scen_idx, rule=powFlowConstr)\n",
        "    saa_model.rcsConstr2 = Constraint(saa_model.bus_idx, saa_model.scen_idx, rule=posResViolConstr)\n",
        "    saa_model.rcsConstr3 = Constraint(saa_model.bus_idx, saa_model.scen_idx, rule=negResViolConstr)\n",
        "    saa_model.rcsConstr4 = Constraint(saa_model.line_idx, saa_model.scen_idx, rule=lineFlowViolConstr1)\n",
        "    saa_model.rcsConstr5 = Constraint(saa_model.line_idx, saa_model.scen_idx, rule=lineFlowViolConstr2)\n",
        "    saa_model.rcsConstr6 = Constraint(saa_model.bus_idx, saa_model.scen_idx, rule=genBoundViolConstr1)\n",
        "    saa_model.rcsConstr7 = Constraint(saa_model.bus_idx, saa_model.scen_idx, rule=genBoundViolConstr2)\n",
        "    saa_model.rcsConstr8 = Constraint(saa_model.bus_idx, saa_model.scen_idx, rule=recoursePolicyConstr)\n",
        "\n",
        "    # *========= CREATE INSTANCE ==========\n",
        "    pyo_instance = saa_model.create_instance()\n",
        "\n",
        "    # dictionary to store results for all instances\n",
        "    solns = dict()\n",
        "    solns['estimateTotalCost'] = []\n",
        "    solns['c_gen'] = []\n",
        "    solns['c_res'] = []\n",
        "    solns['c_fs'] = []\n",
        "    solns['c_rcs'] = []\n",
        "    solns['x'] = []\n",
        "    solns['rp'] = []\n",
        "    solns['rd'] = []\n",
        "    solns['lambda'] = []\n",
        "    solns['time'] = []\n",
        "    solns['lineViol'] = []\n",
        "    solns['genBoundViol'] = []\n",
        "\n",
        "    # *========= PASS INTO DATA AND SOLVE==========\n",
        "    # for t in range(numInstance):\n",
        "    start_time = time.time()\n",
        "    # sumPredMeanDemand_iter = forecasts.sum()\n",
        "    # pyo_instance.sumMeanDemand = sumPredMeanDemand_iter\n",
        "    sumRealTimeDemand_iter = np.sum(d_omega, axis=1)\n",
        "    print('sumRealTimeDemand_iter:', sumRealTimeDemand_iter.shape)\n",
        "    for u in scen_idx:\n",
        "        # pyo_instance.sumDemandDeviations[u] = sumRealTimeDemand_iter[u] - sumPredMeanDemand_iter\n",
        "        pyo_instance.sumRealTimeDemand[u] = sumRealTimeDemand_iter[u]\n",
        "        for v in bus_idx:\n",
        "            pyo_instance.d_omega[u, v] = d_omega[u, v]\n",
        "\n",
        "    # *========= SOLVE ==========\n",
        "    results = saa_solver.solve(pyo_instance, tee=False)\n",
        "    solve_status = results.solver.status\n",
        "    tm_cond = results.solver.termination_condition\n",
        "\n",
        "    if (solve_status != SolverStatus.ok) or (\n",
        "            tm_cond not in [TerminationCondition.optimal,\n",
        "                            TerminationCondition.locallyOptimal,\n",
        "                            TerminationCondition.globallyOptimal]):\n",
        "        print(\"GP model not solved to (sub)optimality using Ipopt!!!\")\n",
        "        print(\"solve_status: \", solve_status)\n",
        "        print(\"termination_condition: \", tm_cond)\n",
        "        sys.exit(0)\n",
        "    else:\n",
        "        print(\"solve status: \", solve_status)\n",
        "        print(\"termination condition: \", tm_cond)\n",
        "\n",
        "    # solutions per instance\n",
        "    x_soln = []\n",
        "    rp_soln = []\n",
        "    rd_soln = []\n",
        "    lambda_soln = []\n",
        "    posResViol_soln = []\n",
        "    negResViol_soln = []\n",
        "    for v in pyo_instance.bus_idx:\n",
        "        x_soln += [pyo_instance.x[v].value]\n",
        "\n",
        "        rp_soln += [pyo_instance.rp[v].value]\n",
        "\n",
        "        rd_soln += [pyo_instance.rd[v].value]\n",
        "\n",
        "        lambda_soln += [pyo_instance.lambd[v].value]\n",
        "\n",
        "        posResViol_soln_per_scen = []\n",
        "        negResViol_soln_per_scen = []\n",
        "        for u in pyo_instance.scen_idx:\n",
        "\n",
        "            posResViol_soln_per_scen.append(pyo_instance.posResViol[v, u].value)\n",
        "\n",
        "            negResViol_soln_per_scen.append(pyo_instance.negResViol[v, u].value)\n",
        "\n",
        "        posResViol_soln.append(posResViol_soln_per_scen)\n",
        "        negResViol_soln.append(negResViol_soln_per_scen)\n",
        "\n",
        "\n",
        "    solns['x'].append(x_soln)\n",
        "    solns['rp'].append(rp_soln)\n",
        "    solns['rd'].append(rd_soln)\n",
        "    solns['lambda'].append(lambda_soln)\n",
        "\n",
        "    x_soln = np.array(x_soln)\n",
        "    rp_soln = np.array(rp_soln)\n",
        "    rd_soln = np.array(rd_soln)\n",
        "    lambda_soln = np.array(lambda_soln)\n",
        "    posResViol_soln = np.array(posResViol_soln)\n",
        "    negResViol_soln = np.array(negResViol_soln)\n",
        "    print('x_soln:', x_soln.shape)\n",
        "    print('rp_soln:', rp_soln.shape)\n",
        "    print('rd_soln:', rd_soln.shape)\n",
        "    print('lambda_soln:', lambda_soln.shape)\n",
        "    print('posResViol_soln:', posResViol_soln.shape)\n",
        "    print('negResViol_soln:', negResViol_soln.shape)\n",
        "\n",
        "    c_gen = Bus_Price.T@x_soln\n",
        "    print('c_gen:', c_gen.shape)\n",
        "\n",
        "    c_res = Bus_Pos_Res_Price.T@rp_soln + Bus_Neg_Res_Price.T@rd_soln\n",
        "    print('c_res:', c_res.shape)\n",
        "\n",
        "    c_fs = np.sum(c_gen + c_res)\n",
        "\n",
        "    reserve_penalties = Bus_Pos_Res_Price.T@posResViol_soln + Bus_Neg_Res_Price.T@negResViol_soln\n",
        "    print('reserve_penalties:', reserve_penalties.shape)\n",
        "\n",
        "    c_rcs = gamma_res * np.sum(reserve_penalties) / num_scens\n",
        "\n",
        "    solns['c_fs'].append(c_fs)\n",
        "    solns['c_rcs'].append(c_rcs)\n",
        "    solns['c_gen'].append(np.sum(c_gen))\n",
        "    solns['c_res'].append(np.sum(c_res))\n",
        "    solns['estimateTotalCost'] += [c_fs+c_rcs]\n",
        "\n",
        "    lineViol_soln = []\n",
        "    for k in pyo_instance.line_idx:\n",
        "        for scen in pyo_instance.scen_idx:\n",
        "            lineViol_soln += [pyo_instance.lineViol[k, scen].value]\n",
        "\n",
        "    genBoundViol_soln = []\n",
        "    for n in pyo_instance.bus_idx:\n",
        "        for scen in pyo_instance.scen_idx:\n",
        "            genBoundViol_soln += [pyo_instance.genBoundViol[n, scen].value]\n",
        "\n",
        "    solns['lineViol'].append(sum(lineViol_soln))\n",
        "    solns['genBoundViol'].append(sum(genBoundViol_soln))\n",
        "\n",
        "    solns['time'].append(time.time() - start_time)\n",
        "    print('Solving tims is %.2f minutes.' % ((time.time() - start_time) / 60))\n",
        "\n",
        "    if file_name:\n",
        "        json.dump(solns, open(Results_Path + file_name, 'w'))\n",
        "\n",
        "    return solns\n"
      ],
      "metadata": {
        "id": "uw9x3KhGif3q"
      },
      "execution_count": 81,
      "outputs": []
    },
    {
      "cell_type": "markdown",
      "source": [
        "## Run Penalty Method II"
      ],
      "metadata": {
        "id": "eDwTTcTgMLtR"
      }
    },
    {
      "cell_type": "code",
      "source": [
        "def run_penalty_methodII(inputDemands, num_scens, lambda_value, file_name=None):\n",
        "    numInstance = inputDemands.shape[0]\n",
        "\n",
        "    # *====== CONSTRUCT SCENARIOS FOR EACH INSTANCE =======\n",
        "    # all_d_omega = np.zeros((num_scens, Num_Buses, numInstance))\n",
        "    # for t in range(numInstance):\n",
        "    #     d_omega = load_sampling(inputDemands[t, :], num_scens)\n",
        "    #     all_d_omega[:, :, t] = d_omega\n",
        "\n",
        "    # define sets and indexes\n",
        "    # to be compatible with numpy data indexes, use Set() and initialize with numpy range\n",
        "    busSet = range(Num_Buses)\n",
        "    scenSet = range(num_scens)\n",
        "\n",
        "    bus_max_pow = Bus_Max_Pow.reshape(-1, 1)\n",
        "    bus_min_pow = Bus_Min_Pow.reshape(-1, 1)\n",
        "    flow_max_limit = Flow_Max_Limit.reshape(-1, 1)\n",
        "\n",
        "    # dictionary to store results for all instances\n",
        "    solns = dict()\n",
        "    solns['estimateTotalCost'] = []\n",
        "    solns['c_gen'] = []\n",
        "    solns['c_res'] = []\n",
        "    solns['c_fs'] = []\n",
        "    solns['c_rcs'] = []\n",
        "    solns['x'] = []\n",
        "    solns['rp'] = []\n",
        "    solns['rd'] = []\n",
        "    solns['gen_penalties'] = []\n",
        "    # solns['line_penalties'] = []\n",
        "\n",
        "    for t in range(numInstance):\n",
        "        start_time = time.time()\n",
        "        d_omega = load_sampling(inputDemands[t, :], num_scens).T\n",
        "        print('d_omega:', d_omega.shape)\n",
        "        print('total_forecated_demand:', np.sum(inputDemands[t, :]))\n",
        "\n",
        "        # *====== FOR EACH INSTANCE =======\n",
        "        # d_omega = all_d_omega[:, :, t].T\n",
        "\n",
        "        # define first-stage variables\n",
        "        x = cp.Variable(shape=(Num_Buses, 1), name='x')\n",
        "        rp = cp.Variable(shape=(Num_Buses, 1), name='rp')\n",
        "        rd = cp.Variable(shape=(Num_Buses, 1), name='rd')\n",
        "        # lambd = cp.Variable(shape=(Num_Buses, 1), name='distribution_factor')\n",
        "\n",
        "        # define second-stage variables\n",
        "        # theta = cp.Variable(shape=(Num_Buses - 1, num_scens), name='theta')\n",
        "        # y = cp.Variable(shape=(Num_Buses, num_scens), name='p')\n",
        "        # xi = cp.Variable(shape=(Num_Buses, num_scens), name='offsets')\n",
        "\n",
        "        total_rt_demand = np.sum(d_omega, axis=0).reshape(1,-1)\n",
        "        # total_mismatch = total_rt_demand - cp.sum(x)\n",
        "        # total_mismatch = total_mismatch.reshape(1, -1)\n",
        "        if t == 0:\n",
        "            print('total_rt_demand:', total_rt_demand.shape)\n",
        "            print('lambda:', lambda_value.shape)\n",
        "\n",
        "        # define expressions\n",
        "        # y = cp.multiply(lambda_value, total_mismatch)  # of size (num_gen, num_scens)\n",
        "        # print('y:', y.shape)\n",
        "        # lambda_value[i]*total_mismatch[scen]\n",
        "\n",
        "        # add constraints for affine policy\n",
        "        # constraints = [\n",
        "        #     cp.sum(lambd) == 1,\n",
        "        #     lambd >= np.zeros_like(bus_max_pow),\n",
        "        #     lambd[nongen_to_bus,:] <= np.zeros(( Num_Buses-Num_Gen, 1))\n",
        "        # ]\n",
        "\n",
        "        # define constraints\n",
        "        # add operational and phase angle limits and power flow equations\n",
        "        constraints = [\n",
        "            # cp.sum(x) == np.sum(inputDemands[t, :]),\n",
        "            x <= bus_max_pow,\n",
        "            x >= bus_min_pow,\n",
        "            x + rp <= bus_max_pow,\n",
        "            x - rd >= bus_min_pow,\n",
        "            rp >= np.zeros_like(rp),\n",
        "            rd >= np.zeros_like(rd),\n",
        "            # theta <= theta_max * np.ones_like(theta),\n",
        "            # theta >= -theta_max * np.ones_like(theta),\n",
        "            # theta[slackBusNo - 1, :] == np.zeros(num_scens),\n",
        "            # x + y <= np.repeat(bus_max_pow, num_scens, axis=1),\n",
        "            # x + y >= np.repeat(bus_min_pow, num_scens, axis=1),\n",
        "            # Fns @ theta <= np.repeat(flow_max_limit, num_scens, axis=1),\n",
        "            # Fns @ theta >= -np.repeat(flow_max_limit, num_scens, axis=1),\n",
        "            # x + y == Bns @ theta + d_omega\n",
        "        ]\n",
        "\n",
        "        # if fsConstrainID == 'addFSBalance':\n",
        "        # constraints += [cp.sum(x) == np.sum(inputDemands[t, :])]\n",
        "\n",
        "        # c_gen = sum(Bus_Price[i] * x[i, 0]\n",
        "        #             for i in busSet)\n",
        "\n",
        "        # c_res = sum(Bus_Pos_Res_Price[i] * rp[i, 0] + Bus_Neg_Res_Price[i] * rd[i, 0]\n",
        "        #             for i in busSet)\n",
        "        gen_cost = Bus_Price.T@x\n",
        "        print('gen_cost shape:', gen_cost.shape)\n",
        "\n",
        "        res_cost = Bus_Pos_Res_Price.T@rp + Bus_Neg_Res_Price.T@rd\n",
        "        print('res_cost shape:', res_cost.shape)\n",
        "\n",
        "        fs_cost = cp.sum(gen_cost + res_cost)\n",
        "        print('fs_cost shape:', fs_cost.shape)\n",
        "\n",
        "\n",
        "        # c_rcs = (1.0 / num_scens) * sum(\n",
        "        #     gamma_res * Bus_Pos_Res_Price[i] * cp.maximum(lambda_value[i]*(total_rt_demand[0,scen]-cp.sum(x)) - rp[i, 0], 0.0) +\n",
        "        #     gamma_res * Bus_Neg_Res_Price[i] * cp.maximum(- rd[i, 0] - lambda_value[i,0]*(total_rt_demand[0,scen]-cp.sum(x)), 0.0)\n",
        "        #     for scen in scenSet for i in busSet)\n",
        "        reserve_penalties = Bus_Pos_Res_Price.T @ cp.maximum(lambda_value@(total_rt_demand-cp.sum(x)) - rp, np.zeros((Num_Buses, num_scens))) \\\n",
        "                + Bus_Neg_Res_Price.T @ cp.maximum(-rd - lambda_value@(total_rt_demand-cp.sum(x)), np.zeros((Num_Buses, num_scens))) \n",
        "        print('reserve_penalties shape:', reserve_penalties.shape) \n",
        "\n",
        "        recourse_cost = gamma_res * cp.sum(reserve_penalties) / num_scens\n",
        "        print('recourse_cost shape:', recourse_cost.shape)\n",
        "\n",
        "        gen_penalties = cp.maximum(x + lambda_value@(total_rt_demand-cp.sum(x)) - bus_max_pow, np.zeros((Num_Buses, num_scens))) ** 2 \\\n",
        "                        + cp.maximum(bus_min_pow - (x+lambda_value@(total_rt_demand-cp.sum(x))), np.zeros((Num_Buses, num_scens))) ** 2\n",
        "        print('gen_penalties shape:', gen_penalties.shape)\n",
        "\n",
        "        gen_penalty_cost = gamma_gen * cp.sum(gen_penalties) / num_scens\n",
        "        print('gen_penalty_cost shape:', gen_penalty_cost.shape)\n",
        "\n",
        "\n",
        "        # line_penalties = (1.0 / num_scens) * gamma_line * cp.sum_squares(\n",
        "        #     cp.maximum(Fns @ theta - np.repeat(flow_max_limit, num_scens, axis=1), np.zeros((Num_Lines, num_scens))) +\n",
        "        #     cp.maximum(-np.repeat(flow_max_limit, num_scens, axis=1) - Fns @ theta, np.zeros((Num_Lines, num_scens)))\n",
        "        #     )\n",
        "\n",
        "        # gen_penalties = (1.0 / num_scens) * gamma_line * cp.sum_squares(\n",
        "        #     cp.maximum(x + cp.multiply(lambda_value, total_mismatch) - np.repeat(bus_max_pow, num_scens, axis=1), np.zeros((Num_Buses, num_scens))) +\n",
        "        #     cp.maximum(np.repeat(bus_min_pow, num_scens, axis=1) - (x + cp.multiply(lambda_value, total_mismatch)), np.zeros((Num_Buses, num_scens)))\n",
        "        #     )\n",
        "        \n",
        "        # gen_penalties = (1.0 / num_scens) * gamma_line * sum(\n",
        "        #     cp.maximum((x[i,0] + lambda_value[i,0]*(total_rt_demand[0,scen]-cp.sum(x))) - bus_max_pow[i], 0.0)**2 +\n",
        "        #     cp.maximum(bus_min_pow[i] - (x[i,0]+ lambda_value[i,0]*(total_rt_demand[0,scen]-cp.sum(x))), 0.0)**2\n",
        "        #     for scen in scenSet for i in busSet)\n",
        "\n",
        "        # problem = cp.Problem(cp.Minimize(c_fs + c_rcs + line_penalties + gen_penalties), constraints)\n",
        "        problem = cp.Problem(cp.Minimize(fs_cost + recourse_cost + gen_penalty_cost), constraints)\n",
        "\n",
        "        try:\n",
        "            problem.solve()\n",
        "        except:\n",
        "            problem.solve(solver=cp.ECOS)\n",
        "\n",
        "        # if problem.status not in [\"infeasible\", \"unbounded\"]:\n",
        "        #     # Otherwise, problem.value is inf or -inf, respectively.\n",
        "        #     print(\"Optimal value: %s\" % problem.value)\n",
        "        #     for variable in problem.variables():\n",
        "        #         print(\"Variable %s: value %s\" % (variable.name(), variable.value))\n",
        "\n",
        "        if problem.status in [\"infeasible\", \"unbounded\"]:\n",
        "            print(\"Model not solved to (sub)optimality using CVXPY!!!\")\n",
        "            print(\"solve_status: \", problem.status)\n",
        "            sys.exit(0)\n",
        "\n",
        "        print(\"Instance: %d Problem status: %s \" % (t, problem.status))\n",
        "\n",
        "        solns['estimateTotalCost'] += [fs_cost.value.item() + recourse_cost.value.item()]\n",
        "        solns['c_gen'] += [gen_cost.value.item()]\n",
        "        solns['c_res'] += [res_cost.value.item()]\n",
        "        solns['c_fs'] += [fs_cost.value.item()]\n",
        "        solns['c_rcs'] += [recourse_cost.value.item()]\n",
        "        solns['x'] += [list(x.value[:, 0])]\n",
        "        solns['rp'] += [list(rp.value[:, 0])]\n",
        "        solns['rd'] += [list(rd.value[:, 0])]\n",
        "        solns['gen_penalties'] = [gen_penalty_cost.value.item()]\n",
        "        # solns['line_penalties'] = [line_penalties.value.item()]\n",
        "\n",
        "        print('Solving tims for instance %d is %.2f minutes.' % (t, (time.time() - start_time) / 60))\n",
        "\n",
        "        if file_name:\n",
        "            json.dump(solns, open(Results_Path + file_name, 'w'))\n",
        "\n",
        "    return solns"
      ],
      "metadata": {
        "id": "q13OVsXgjJNZ"
      },
      "execution_count": 47,
      "outputs": []
    },
    {
      "cell_type": "code",
      "source": [
        "def run_penalty_methodII_limit_flow(inputDemands, num_scens, lambda_value, file_name=None):\n",
        "    numInstance = inputDemands.shape[0]\n",
        "\n",
        "    # *====== CONSTRUCT SCENARIOS FOR EACH INSTANCE =======\n",
        "    # all_d_omega = np.zeros((num_scens, Num_Buses, numInstance))\n",
        "    # for t in range(numInstance):\n",
        "    #     d_omega = load_sampling(inputDemands[t, :], num_scens)\n",
        "    #     all_d_omega[:, :, t] = d_omega\n",
        "\n",
        "    # define sets and indexes\n",
        "    # to be compatible with numpy data indexes, use Set() and initialize with numpy range\n",
        "    busSet = range(Num_Buses)\n",
        "    scenSet = range(num_scens)\n",
        "\n",
        "    bus_max_pow = Bus_Max_Pow.reshape(-1, 1)\n",
        "    bus_min_pow = Bus_Min_Pow.reshape(-1, 1)\n",
        "    flow_max_limit = Flow_Max_Limit.reshape(-1, 1)\n",
        "\n",
        "    # dictionary to store results for all instances\n",
        "    solns = dict()\n",
        "    solns['estimateTotalCost'] = []\n",
        "    solns['c_gen'] = []\n",
        "    solns['c_res'] = []\n",
        "    solns['c_fs'] = []\n",
        "    solns['c_rcs'] = []\n",
        "    solns['x'] = []\n",
        "    solns['rp'] = []\n",
        "    solns['rd'] = []\n",
        "    solns['gen_penalties'] = []\n",
        "    solns['line_penalties'] = []\n",
        "\n",
        "    for t in range(numInstance):\n",
        "        start_time = time.time()\n",
        "        d_omega = load_sampling(inputDemands[t, :], num_scens).T\n",
        "        print('d_omega:', d_omega.shape)\n",
        "        print('total_forecated_demand:', np.sum(inputDemands[t, :]))\n",
        "\n",
        "        # *====== FOR EACH INSTANCE =======\n",
        "        # d_omega = all_d_omega[:, :, t].T\n",
        "\n",
        "        # define first-stage variables\n",
        "        x = cp.Variable(shape=(Num_Buses, 1), name='x')\n",
        "        rp = cp.Variable(shape=(Num_Buses, 1), name='rp')\n",
        "        rd = cp.Variable(shape=(Num_Buses, 1), name='rd')\n",
        "        # lambd = cp.Variable(shape=(Num_Buses, 1), name='distribution_factor')\n",
        "\n",
        "        # define second-stage variables\n",
        "        theta = cp.Variable(shape=(Num_Buses - 1, num_scens), name='theta')\n",
        "        # y = cp.Variable(shape=(Num_Buses, num_scens), name='p')\n",
        "        # xi = cp.Variable(shape=(Num_Buses, num_scens), name='offsets')\n",
        "\n",
        "        total_rt_demand = np.sum(d_omega, axis=0).reshape(1,-1)\n",
        "        # total_mismatch = total_rt_demand - cp.sum(x)\n",
        "        # total_mismatch = total_mismatch.reshape(1, -1)\n",
        "        if t == 0:\n",
        "            print('total_rt_demand:', total_rt_demand.shape)\n",
        "            print('lambda:', lambda_value.shape)\n",
        "\n",
        "        # define expressions\n",
        "        # y = cp.multiply(lambda_value, total_mismatch)  # of size (num_gen, num_scens)\n",
        "        # print('y:', y.shape)\n",
        "        # lambda_value[i]*total_mismatch[scen]\n",
        "\n",
        "        # add constraints for affine policy\n",
        "        # constraints = [\n",
        "        #     cp.sum(lambd) == 1,\n",
        "        #     lambd >= np.zeros_like(bus_max_pow),\n",
        "        #     lambd[nongen_to_bus,:] <= np.zeros(( Num_Buses-Num_Gen, 1))\n",
        "        # ]\n",
        "\n",
        "        # define constraints\n",
        "        # add operational and phase angle limits and power flow equations\n",
        "        constraints = [\n",
        "            # cp.sum(x) == np.sum(inputDemands[t, :]),\n",
        "            x <= bus_max_pow,\n",
        "            x >= bus_min_pow,\n",
        "            x + rp <= bus_max_pow,\n",
        "            x - rd >= bus_min_pow,\n",
        "            rp >= np.zeros_like(rp),\n",
        "            rd >= np.zeros_like(rd),\n",
        "            theta <= theta_max * np.ones_like(theta),\n",
        "            theta >= -theta_max * np.ones_like(theta),\n",
        "            # theta[slackBusNo - 1, :] == np.zeros(num_scens),\n",
        "            # x + y <= np.repeat(bus_max_pow, num_scens, axis=1),\n",
        "            # x + y >= np.repeat(bus_min_pow, num_scens, axis=1),\n",
        "            # Fns @ theta <= np.repeat(flow_max_limit, num_scens, axis=1),\n",
        "            # Fns @ theta >= -np.repeat(flow_max_limit, num_scens, axis=1),\n",
        "            x + lambda_value@(total_rt_demand-cp.sum(x)) == Bns @ theta + d_omega\n",
        "        ]\n",
        "\n",
        "        # if fsConstrainID == 'addFSBalance':\n",
        "        # constraints += [cp.sum(x) == np.sum(inputDemands[t, :])]\n",
        "\n",
        "        # c_gen = sum(Bus_Price[i] * x[i, 0]\n",
        "        #             for i in busSet)\n",
        "\n",
        "        # c_res = sum(Bus_Pos_Res_Price[i] * rp[i, 0] + Bus_Neg_Res_Price[i] * rd[i, 0]\n",
        "        #             for i in busSet)\n",
        "        gen_cost = Bus_Price.T@x\n",
        "        print('gen_cost shape:', gen_cost.shape)\n",
        "\n",
        "        res_cost = Bus_Pos_Res_Price.T@rp + Bus_Neg_Res_Price.T@rd\n",
        "        print('res_cost shape:', res_cost.shape)\n",
        "\n",
        "        fs_cost = cp.sum(gen_cost + res_cost)\n",
        "        print('fs_cost shape:', fs_cost.shape)\n",
        "\n",
        "\n",
        "        # c_rcs = (1.0 / num_scens) * sum(\n",
        "        #     gamma_res * Bus_Pos_Res_Price[i] * cp.maximum(lambda_value[i]*(total_rt_demand[0,scen]-cp.sum(x)) - rp[i, 0], 0.0) +\n",
        "        #     gamma_res * Bus_Neg_Res_Price[i] * cp.maximum(- rd[i, 0] - lambda_value[i,0]*(total_rt_demand[0,scen]-cp.sum(x)), 0.0)\n",
        "        #     for scen in scenSet for i in busSet)\n",
        "        reserve_penalties = Bus_Pos_Res_Price.T @ cp.maximum(lambda_value@(total_rt_demand-cp.sum(x)) - rp, np.zeros((Num_Buses, num_scens))) \\\n",
        "                + Bus_Neg_Res_Price.T @ cp.maximum(-rd - lambda_value@(total_rt_demand-cp.sum(x)), np.zeros((Num_Buses, num_scens))) \n",
        "        print('reserve_penalties shape:', reserve_penalties.shape) \n",
        "\n",
        "        recourse_cost = gamma_res * cp.sum(reserve_penalties) / num_scens\n",
        "        print('recourse_cost shape:', recourse_cost.shape)\n",
        "\n",
        "        gen_penalties = cp.maximum(x + lambda_value@(total_rt_demand-cp.sum(x)) - bus_max_pow, np.zeros((Num_Buses, num_scens))) ** 2 \\\n",
        "                        + cp.maximum(bus_min_pow - (x+lambda_value@(total_rt_demand-cp.sum(x))), np.zeros((Num_Buses, num_scens))) ** 2\n",
        "        print('gen_penalties shape:', gen_penalties.shape)\n",
        "\n",
        "        gen_penalty_cost = gamma_gen * cp.sum(gen_penalties) / num_scens\n",
        "        print('gen_penalty_cost shape:', gen_penalty_cost.shape)\n",
        "\n",
        "\n",
        "        # line_penalties = (1.0 / num_scens) * gamma_line * cp.sum_squares(\n",
        "        #     cp.maximum(Fns @ theta - np.repeat(flow_max_limit, num_scens, axis=1), np.zeros((Num_Lines, num_scens))) +\n",
        "        #     cp.maximum(-np.repeat(flow_max_limit, num_scens, axis=1) - Fns @ theta, np.zeros((Num_Lines, num_scens)))\n",
        "        #     )\n",
        "        line_penalties = cp.maximum(Fns @ theta - np.repeat(flow_max_limit, num_scens, axis=1), np.zeros((Num_Lines, num_scens))) ** 2 \\\n",
        "                        + cp.maximum(-np.repeat(flow_max_limit, num_scens, axis=1) - Fns @ theta, np.zeros((Num_Lines, num_scens))) ** 2\n",
        "\n",
        "        line_penalty_cost = gamma_line * cp.sum(line_penalties) / num_scens\n",
        "        print('line_penalty_cost shape:', line_penalty_cost.shape)\n",
        "\n",
        "        # gen_penalties = (1.0 / num_scens) * gamma_line * cp.sum_squares(\n",
        "        #     cp.maximum(x + cp.multiply(lambda_value, total_mismatch) - np.repeat(bus_max_pow, num_scens, axis=1), np.zeros((Num_Buses, num_scens))) +\n",
        "        #     cp.maximum(np.repeat(bus_min_pow, num_scens, axis=1) - (x + cp.multiply(lambda_value, total_mismatch)), np.zeros((Num_Buses, num_scens)))\n",
        "        #     )\n",
        "        \n",
        "        # gen_penalties = (1.0 / num_scens) * gamma_line * sum(\n",
        "        #     cp.maximum((x[i,0] + lambda_value[i,0]*(total_rt_demand[0,scen]-cp.sum(x))) - bus_max_pow[i], 0.0)**2 +\n",
        "        #     cp.maximum(bus_min_pow[i] - (x[i,0]+ lambda_value[i,0]*(total_rt_demand[0,scen]-cp.sum(x))), 0.0)**2\n",
        "        #     for scen in scenSet for i in busSet)\n",
        "\n",
        "        # problem = cp.Problem(cp.Minimize(c_fs + c_rcs + line_penalties + gen_penalties), constraints)\n",
        "        problem = cp.Problem(cp.Minimize(fs_cost + recourse_cost + gen_penalty_cost + line_penalty_cost), constraints)\n",
        "\n",
        "        try:\n",
        "            problem.solve()\n",
        "        except:\n",
        "            problem.solve(solver=cp.ECOS)\n",
        "\n",
        "        # if problem.status not in [\"infeasible\", \"unbounded\"]:\n",
        "        #     # Otherwise, problem.value is inf or -inf, respectively.\n",
        "        #     print(\"Optimal value: %s\" % problem.value)\n",
        "        #     for variable in problem.variables():\n",
        "        #         print(\"Variable %s: value %s\" % (variable.name(), variable.value))\n",
        "\n",
        "        if problem.status in [\"infeasible\", \"unbounded\"]:\n",
        "            print(\"Model not solved to (sub)optimality using CVXPY!!!\")\n",
        "            print(\"solve_status: \", problem.status)\n",
        "            sys.exit(0)\n",
        "\n",
        "        print(\"Instance: %d Problem status: %s \" % (t, problem.status))\n",
        "\n",
        "        solns['estimateTotalCost'] += [fs_cost.value.item() + recourse_cost.value.item()]\n",
        "        solns['c_gen'] += [gen_cost.value.item()]\n",
        "        solns['c_res'] += [res_cost.value.item()]\n",
        "        solns['c_fs'] += [fs_cost.value.item()]\n",
        "        solns['c_rcs'] += [recourse_cost.value.item()]\n",
        "        solns['x'] += [list(x.value[:, 0])]\n",
        "        solns['rp'] += [list(rp.value[:, 0])]\n",
        "        solns['rd'] += [list(rd.value[:, 0])]\n",
        "        solns['gen_penalties'] = [gen_penalty_cost.value.item()]\n",
        "        solns['line_penalties'] = [line_penalty_cost.value.item()]\n",
        "\n",
        "        print('Solving tims for instance %d is %.2f minutes.' % (t, (time.time() - start_time) / 60))\n",
        "\n",
        "        if file_name:\n",
        "            json.dump(solns, open(Results_Path + file_name, 'w'))\n",
        "\n",
        "    return solns"
      ],
      "metadata": {
        "id": "hCNzI6jVwxt-"
      },
      "execution_count": 48,
      "outputs": []
    },
    {
      "cell_type": "markdown",
      "source": [
        "## Recourse problem"
      ],
      "metadata": {
        "id": "4Z4b97IPUDZW"
      }
    },
    {
      "cell_type": "code",
      "source": [
        "def solve_recourse(inputDemands, all_d_omega, fs_soln,\n",
        "                   file_name, return_rcsSolns=False):\n",
        "    # *====== CONSTRUCT SCENARIOS FOR EACH INSTANCE =======\n",
        "    numInstance = inputDemands.shape[0]\n",
        "    numScenarios = all_d_omega.shape[0]\n",
        "\n",
        "    x_soln = np.array(fs_soln['x']).reshape(-1,1)\n",
        "    rp_soln = np.array(fs_soln['rp']).reshape(-1,1)\n",
        "    rd_soln = np.array(fs_soln['rd']).reshape(-1,1)\n",
        "    fsCost = np.array(fs_soln['c_fs']).flatten()\n",
        "    print('x_soln:', x_soln.shape)\n",
        "    print('rp_soln:', rp_soln.shape)\n",
        "    print('rd_soln:', rd_soln.shape)\n",
        "    print('fsCost:', fsCost.shape)\n",
        "\n",
        "    # dictionary to store recourse solutions in case return_rcsSolns is true\n",
        "    rcsSolns = dict()\n",
        "    rcsSolns['d_omega'] = np.zeros((Num_Buses, numInstance))\n",
        "    rcsSolns['theta'] = []\n",
        "    rcsSolns['y'] = []\n",
        "    if return_rcsSolns:\n",
        "        # there will only be a single scenario for each instance under this setting\n",
        "        rcsSolns['d_omega'] = all_d_omega[0, :, :]\n",
        "\n",
        "    # define sets and indexes\n",
        "    # to be compatible with numpy data indexes, use Set() and initialize with numpy range\n",
        "    busSet = range(Num_Buses)\n",
        "    scenSet = range(numScenarios)\n",
        "\n",
        "    bus_max_pow = Bus_Max_Pow.reshape(-1, 1)\n",
        "    bus_min_pow = Bus_Min_Pow.reshape(-1, 1)\n",
        "    flow_max_limit = Flow_Max_Limit.reshape(-1, 1)\n",
        "\n",
        "    # dictionary to store results for all instances\n",
        "    evalSolns = dict()\n",
        "    evalSolns['Status'] = []\n",
        "    evalSolns['fsCost'] = []\n",
        "    evalSolns['rcsCost'] = []\n",
        "    evalSolns['evaluateTotalCost'] = []\n",
        "    evalSolns['pos_res_cost'] = []\n",
        "    evalSolns['neg_res_cost'] = []\n",
        "\n",
        "    for t in range(numInstance):\n",
        "        start_time = time.time()\n",
        "\n",
        "        # *====== FOR EACH INSTANCE =======\n",
        "        d_omega = all_d_omega[:, :, t].T\n",
        "        # print('d_omega:', d_omega.shape)\n",
        "\n",
        "        # recourse variables\n",
        "        theta = cp.Variable(shape=(Num_Buses-1, numScenarios), name='theta')\n",
        "        y = cp.Variable(shape=(Num_Buses, numScenarios), name='y')\n",
        "\n",
        "        constraints = [\n",
        "            theta <= theta_max * np.ones_like(theta),\n",
        "            theta >= -theta_max * np.ones_like(theta),\n",
        "            x_soln[t:t + 1, :].T + y <= np.repeat(bus_max_pow, numScenarios, axis=1),\n",
        "            x_soln[t:t + 1, :].T + y >= np.repeat(bus_min_pow, numScenarios, axis=1),\n",
        "            Fns @ theta <= np.repeat(flow_max_limit, numScenarios, axis=1),\n",
        "            Fns @ theta >= -np.repeat(flow_max_limit, numScenarios, axis=1),\n",
        "            x_soln[t:t + 1, :].T + y == Bns @ theta + d_omega\n",
        "        ]\n",
        "\n",
        "        # cost = (1.0 / numScenarios) * sum(\n",
        "        #     gamma_res * Bus_Pos_Res_Price[i] * cp.maximum(y[i, scen] - rp_soln[t, i], 0.0) +\n",
        "        #     gamma_res * Bus_Neg_Res_Price[i] * cp.maximum(- rd_soln[t, i] - y[i, scen], 0.0)\n",
        "        #     for scen in scenSet for i in busSet)\n",
        "        \n",
        "        # reserve_penalties = Bus_Pos_Res_Price.T @ cp.maximum(y - rp_soln, np.zeros((Num_Buses, numScenarios))) \\\n",
        "        #         + Bus_Neg_Res_Price.T @ cp.maximum(-rd_soln - y, np.zeros((Num_Buses, numScenarios))) \n",
        "        # print('reserve_penalties shape:', reserve_penalties.shape) \n",
        "\n",
        "        # recourse_cost = gamma_res * cp.sum(reserve_penalties) / numScenarios\n",
        "        # print('recourse_cost shape:', recourse_cost.shape)\n",
        "\n",
        "        pos_res_cost = Bus_Pos_Res_Price.T @ cp.maximum(y - rp_soln, np.zeros((Num_Buses, numScenarios)))\n",
        "        neg_res_cost = Bus_Neg_Res_Price.T @ cp.maximum(-rd_soln - y, np.zeros((Num_Buses, numScenarios))) \n",
        "        print('pos_res_cost shape:', pos_res_cost.shape) \n",
        "\n",
        "        recourse_cost = gamma_res * cp.sum(pos_res_cost+neg_res_cost) / numScenarios\n",
        "        print('recourse_cost shape:', recourse_cost.shape)\n",
        "\n",
        "        problem = cp.Problem(cp.Minimize(recourse_cost), constraints)\n",
        "\n",
        "        problem.solve(solver=cp.ECOS)\n",
        "\n",
        "        # if problem.status not in [\"infeasible\", \"unbounded\"]:\n",
        "        #     # Otherwise, problem.value is inf or -inf, respectively.\n",
        "        #     print(\"Optimal value: %s\" % problem.value)\n",
        "        #     for variable in problem.variables():\n",
        "        #         print(\"Variable %s: value %s\" % (variable.name(), variable.value))\n",
        "\n",
        "        if problem.status in [\"infeasible\", \"unbounded\"]:\n",
        "            print(\"Model not solved to (sub)optimality using CVXPY!!!\")\n",
        "            print(\"solve_status: \", problem.status)\n",
        "\n",
        "            evalSolns['Status'] += [str(problem.status)]\n",
        "            evalSolns['fsCost'] += [fsCost[t]]\n",
        "            evalSolns['rcsCost'] += [np.inf]\n",
        "            evalSolns['evaluateTotalCost'] += [np.inf]\n",
        "            evalSolns['pos_res_cost'] += [np.inf]\n",
        "            evalSolns['neg_res_cost'] += [np.inf]\n",
        "\n",
        "            if return_rcsSolns:\n",
        "                rcsSolns['theta'].append([np.inf] * Num_Buses)\n",
        "                rcsSolns['y'].append([np.inf] * Num_Buses)\n",
        "\n",
        "            # sys.exit(0)\n",
        "            continue\n",
        "\n",
        "        print(\"Instance: %d Problem status: %s \" % (t, problem.status))\n",
        "\n",
        "        evalSolns['Status'] += [str(problem.status)]\n",
        "        evalSolns['fsCost'] += [fsCost[t]]\n",
        "        evalSolns['rcsCost'] += [recourse_cost.value.item()]\n",
        "        evalSolns['evaluateTotalCost'] += [fsCost[t] + recourse_cost.value.item()]\n",
        "        evalSolns['pos_res_cost'] += [cp.sum(pos_res_cost).value.item()/numScenarios]\n",
        "        evalSolns['neg_res_cost'] += [cp.sum(neg_res_cost).value.item()/numScenarios]\n",
        "\n",
        "        if return_rcsSolns:\n",
        "            rcsSolns['theta'].append(list(theta.value[:, 0]))\n",
        "            rcsSolns['y'].append(list(y.value[:, 0]))\n",
        "\n",
        "        print('Evaluation tims for instance %d is %.2f minutes.' % (t, (time.time() - start_time) / 60))\n",
        "\n",
        "        if file_name:\n",
        "            json.dump(evalSolns, open(Results_Path + file_name, 'w'))\n",
        "\n",
        "    return evalSolns, rcsSolns"
      ],
      "metadata": {
        "id": "13K_BzqrUGQH"
      },
      "execution_count": 49,
      "outputs": []
    },
    {
      "cell_type": "markdown",
      "source": [
        "# Set up Pytorch"
      ],
      "metadata": {
        "id": "tNaubk9k4Ulp"
      }
    },
    {
      "cell_type": "markdown",
      "source": [
        "## Imports & Constants"
      ],
      "metadata": {
        "id": "asKOC-SF4aBB"
      }
    },
    {
      "cell_type": "code",
      "source": [
        "import torch\n",
        "import torch.nn as nn\n",
        "from torch.utils.data import Dataset, DataLoader\n",
        "from torch.nn.functional import pad, relu\n",
        "import torch.optim as optim\n",
        "\n",
        "torch.manual_seed(8899)\n",
        "\n",
        "TORCH_GENERATION = False\n",
        "\n",
        "PRE_TRAINING = False\n",
        "TRAINING = False\n",
        "\n",
        "RUN_NEURAL_SOLVER = False\n",
        "EVAL_NEURAL = False\n",
        "\n",
        "RUN_SAA = False\n",
        "EVAL_SAA = False\n",
        "\n",
        "RUN_PENALTY_METHODII_NOMINAL = True\n",
        "RUN_PENALTY_METHODII = True\n",
        "EVAL_PENALTY_METHODII = True\n"
      ],
      "metadata": {
        "id": "4HqbIbrb4MbC"
      },
      "execution_count": 50,
      "outputs": []
    },
    {
      "cell_type": "code",
      "source": [
        "# define device\n",
        "device = torch.device(\"cuda:0\" if torch.cuda.is_available() else \"cpu\")"
      ],
      "metadata": {
        "id": "_HsjzM2x5ukS"
      },
      "execution_count": 51,
      "outputs": []
    },
    {
      "cell_type": "code",
      "source": [
        "# data to be used in training process\n",
        "B_ts = torch.tensor(B).float().to(device)\n",
        "Bns_ts = torch.tensor(Bns).float().to(device)\n",
        "\n",
        "Gen_Price_ts = torch.tensor(Gen_Price).float().to(device).reshape(-1, 1)\n",
        "Gen_Pos_Res_Price_ts = torch.tensor(Gen_Pos_Res_Price).float().to(device).reshape(-1, 1)\n",
        "Gen_Neg_Res_Price_ts = torch.tensor(Gen_Neg_Res_Price).float().to(device).reshape(-1, 1)\n",
        "Bus_Pos_Res_Price_ts = torch.tensor(Bus_Pos_Res_Price).float().to(device).reshape(-1, 1)\n",
        "Bus_Neg_Res_Price_ts = torch.tensor(Bus_Neg_Res_Price).float().to(device).reshape(-1, 1)\n",
        "Gen_Max_Pow_ts = torch.tensor(Gen_Max_Pow).float().to(device).reshape(-1, 1)\n",
        "Gen_Min_Pow_ts = torch.tensor(Gen_Min_Pow).float().to(device).reshape(-1, 1)\n",
        "Bus_Max_Pow_ts = torch.tensor(Bus_Max_Pow).float().to(device).reshape(-1, 1)\n",
        "Bus_Min_Pow_ts = torch.tensor(Bus_Min_Pow).float().to(device).reshape(-1, 1)\n",
        "\n",
        "Load_Corr_Mat = np.load(Load_Corr_Mat_Dir_Path + 'demandCorrMat.npy')\n",
        "Load_Corr_Mat_ts = torch.tensor(Load_Corr_Mat).float().to(device)"
      ],
      "metadata": {
        "id": "EjeKEqkqDipe"
      },
      "execution_count": 52,
      "outputs": []
    },
    {
      "cell_type": "code",
      "source": [
        "rcsG = np.block([\n",
        "    [Fns],\n",
        "    [-Fns],\n",
        "    [np.eye(Num_Buses - 1)],\n",
        "    [-np.eye(Num_Buses - 1)]\n",
        "])\n",
        "\n",
        "rcs_h = np.block([\n",
        "    [Flow_Max_Limit.reshape(-1, 1)],\n",
        "    [Flow_Max_Limit.reshape(-1, 1)],\n",
        "    [theta_max * np.ones((Num_Buses - 1, 1))],\n",
        "    [theta_max * np.ones((Num_Buses - 1, 1))]\n",
        "])\n",
        "\n",
        "rcsG_ts = torch.tensor(rcsG).float().to(device)\n",
        "rcs_h_ts = torch.tensor(rcs_h).float().to(device)"
      ],
      "metadata": {
        "id": "LKfocqNG5XxW"
      },
      "execution_count": 53,
      "outputs": []
    },
    {
      "cell_type": "markdown",
      "source": [
        "## Functions for visualization"
      ],
      "metadata": {
        "id": "5EGhOvYP33vh"
      }
    },
    {
      "cell_type": "code",
      "source": [
        "def visualize_train_loss(train_hist, fig_name, yplot='log10'):\n",
        "    Xrange = range(len(train_hist['train_losses']))\n",
        "\n",
        "    fig = plt.figure(figsize=(7, 4))\n",
        "    plt.ticklabel_format(style='plain', scilimits=(-3, 3), useOffset=False)\n",
        "    ax = fig.add_subplot(1, 1, 1)\n",
        "    if yplot == 'log10':\n",
        "        ax.plot(Xrange, np.log10(train_hist['train_losses']), label='train loss')\n",
        "        ax.set_ylabel('log10(train loss)', fontsize=20)\n",
        "\n",
        "    elif yplot == 'plain':\n",
        "        ax.plot(Xrange, train_hist['train_losses'], label='train loss')\n",
        "        ax.set_ylabel('train loss', fontsize=20)\n",
        "\n",
        "    ax.set_xlabel('training epochs', fontsize=20)\n",
        "    plt.xticks(fontsize=20)\n",
        "    plt.yticks(fontsize=20)\n",
        "    fig.tight_layout()\n",
        "    plt.savefig(Results_Path + fig_name)\n",
        "    plt.show()"
      ],
      "metadata": {
        "id": "1wLDjKWW35hT"
      },
      "execution_count": 64,
      "outputs": []
    },
    {
      "cell_type": "code",
      "source": [
        "def visualize(x, y, label_name, xlabel_name, ylabel_name):\n",
        "\n",
        "    fig = plt.figure(figsize=(7, 4))\n",
        "    plt.ticklabel_format(style='plain', scilimits=(-3, 3), useOffset=False)\n",
        "    ax = fig.add_subplot(1, 1, 1)\n",
        "    ax.plot(x, y, label=label_name)\n",
        "    ax.set_ylabel(ylabel_name, fontsize=20)\n",
        "    ax.set_xlabel(xlabel_name, fontsize=20)\n",
        "    plt.xticks(fontsize=20)\n",
        "    plt.yticks(fontsize=20)\n",
        "    plt.legend(fontsize=20)\n",
        "    plt.show()"
      ],
      "metadata": {
        "id": "vZzaxYbWep-n"
      },
      "execution_count": 65,
      "outputs": []
    },
    {
      "cell_type": "code",
      "source": [
        "def visualize_bar(x, y, label_name, xlabel_name, ylabel_name):\n",
        "\n",
        "    fig = plt.figure(figsize=(7, 4))\n",
        "    plt.ticklabel_format(style='plain', scilimits=(-3, 3), useOffset=False)\n",
        "    ax = fig.add_subplot(1, 1, 1)\n",
        "    ax.bar(x, y, label=label_name, width = 0.7)\n",
        "    ax.set_ylabel(ylabel_name, fontsize=20)\n",
        "    ax.set_xlabel(xlabel_name, fontsize=20)\n",
        "    plt.xticks(fontsize=20)\n",
        "    plt.yticks(fontsize=20)\n",
        "    plt.legend(fontsize=20)\n",
        "    plt.show()"
      ],
      "metadata": {
        "id": "xmHkzO4iboRt"
      },
      "execution_count": 76,
      "outputs": []
    },
    {
      "cell_type": "code",
      "source": [
        "def visualize_step(x, y, label_name, xlabel_name, ylabel_name):\n",
        "\n",
        "    fig = plt.figure(figsize=(7, 4))\n",
        "    plt.ticklabel_format(style='plain', scilimits=(-3, 3), useOffset=False)\n",
        "    ax = fig.add_subplot(1, 1, 1)\n",
        "    ax.step(x, y, label=label_name)\n",
        "    ax.set_ylabel(ylabel_name, fontsize=20)\n",
        "    ax.set_xlabel(xlabel_name, fontsize=20)\n",
        "    plt.xticks(fontsize=20)\n",
        "    plt.yticks(fontsize=20)\n",
        "    plt.legend(fontsize=20)\n",
        "    plt.show()"
      ],
      "metadata": {
        "id": "vddGVy3GbqU7"
      },
      "execution_count": 67,
      "outputs": []
    },
    {
      "cell_type": "code",
      "source": [
        "def visualize2(x, y1, y2, label_name1, \n",
        "               label_name2, xlabel_name, ylabel_name):\n",
        "\n",
        "    fig = plt.figure(figsize=(7, 4))\n",
        "    plt.ticklabel_format(style='plain', scilimits=(-3, 3), useOffset=False)\n",
        "    ax = fig.add_subplot(1, 1, 1)\n",
        "    ax.plot(x, y1, label=label_name1, color='orangered',\n",
        "            ls='-', lw=2,\n",
        "            marker='s', mfc='none', ms=8)\n",
        "    ax.plot(x, y2, label=label_name2, color='royalblue',\n",
        "            ls='-', lw=2,\n",
        "            marker='^', mfc='none', ms=8)\n",
        "    ax.set_ylabel(ylabel_name, fontsize=20)\n",
        "    ax.set_xlabel(xlabel_name, fontsize=20)\n",
        "    plt.xticks(fontsize=20)\n",
        "    plt.yticks(fontsize=20)\n",
        "    plt.legend(fontsize=20)\n",
        "    plt.show()"
      ],
      "metadata": {
        "id": "OM4KRSlNesjL"
      },
      "execution_count": 56,
      "outputs": []
    },
    {
      "cell_type": "markdown",
      "source": [
        "## Training data set\n",
        "\n",
        "---\n",
        "\n"
      ],
      "metadata": {
        "id": "0SZLp-wOxQfW"
      }
    },
    {
      "cell_type": "markdown",
      "source": [
        "### Customize *torch.Dataset*"
      ],
      "metadata": {
        "id": "PjV92lTM13EX"
      }
    },
    {
      "cell_type": "code",
      "source": [
        "class CustomTorchDataset(Dataset):\n",
        "    def __init__(self, samples):\n",
        "        self.samples = samples\n",
        "\n",
        "    def __len__(self):\n",
        "        return self.samples.shape[0]\n",
        "\n",
        "    def __getitem__(self, idx):\n",
        "        return self.samples[idx, :]"
      ],
      "metadata": {
        "id": "ASoA8udJ16Pu"
      },
      "execution_count": 57,
      "outputs": []
    },
    {
      "cell_type": "markdown",
      "source": [
        "### Load sampling"
      ],
      "metadata": {
        "id": "CexFAvSc169i"
      }
    },
    {
      "cell_type": "code",
      "source": [
        "# generate {num_scens} real-time load scenarios for a particular instance of scenario forecast\n",
        "def load_sampling(load_mean, num_scens):\n",
        "    assert len(load_mean) == Num_Buses\n",
        "\n",
        "    # standard deviation of loads/demands. keep this small enough to be realistic\n",
        "    load_stdev = RT_Load_Stdev_Factor * load_mean\n",
        "    # for zero stdev, set them to be small, i.e., 0.1\n",
        "    load_stdev = np.where(load_stdev < 1e-5, 0.1, load_stdev)\n",
        "\n",
        "    # randomly generated correlation matrix for the demands\n",
        "    load_corr_mat = np.load(Load_Corr_Mat_Dir_Path + 'demandCorrMat.npy')\n",
        "\n",
        "    load_cov_mat = np.diag(load_stdev) @ load_corr_mat @ np.diag(load_stdev)\n",
        "    # store the Cholesky factorization of the demand covariance matrix for numerical efficiency\n",
        "    load_cov_mat_chol = cholesky(load_cov_mat, lower=True)\n",
        "\n",
        "    # tailored implementation of multivariate normal distribution for demand scenarios\n",
        "    std_normal = np.random.multivariate_normal([0.] * Num_Buses, np.eye(Num_Buses), num_scens)\n",
        "    load_scens = load_cov_mat_chol @ std_normal.T + np.repeat(load_mean.reshape(-1, 1), num_scens, axis=-1)\n",
        "    load_scens = load_scens.T\n",
        "\n",
        "    # set zero load to be zero\n",
        "    load_scens[:, zero_loads_at_buses] = 0.\n",
        "\n",
        "    return load_scens\n",
        "\n",
        "\n",
        "# generate {num_scens} real-time load scenarios for a particular instance of scenario forecast\n",
        "def instances_sampling(load_mean, num_instances, stddev_factor):\n",
        "    assert len(load_mean) == Num_Buses\n",
        "\n",
        "    # standard deviation of loads/demands. keep this small enough to be realistic\n",
        "    load_stdev = stddev_factor * load_mean\n",
        "    # for zero stdev, set them to be small, i.e., 0.1\n",
        "    load_stdev = np.where(load_stdev < 1e-5, 0.1, load_stdev)\n",
        "\n",
        "    # randomly generated correlation matrix for the demands\n",
        "    load_corr_mat = np.load(Load_Corr_Mat_Dir_Path + 'demandCorrMat.npy')\n",
        "\n",
        "    load_cov_mat = np.diag(load_stdev) @ load_corr_mat @ np.diag(load_stdev)\n",
        "    # store the Cholesky factorization of the demand covariance matrix for numerical efficiency\n",
        "    load_cov_mat_chol = cholesky(load_cov_mat, lower=True)\n",
        "\n",
        "    # tailored implementation of multivariate normal distribution for demand scenarios\n",
        "    std_normal = np.random.multivariate_normal([0.] * Num_Buses, np.eye(Num_Buses), num_instances)\n",
        "    load_scens = load_cov_mat_chol @ std_normal.T + np.repeat(load_mean.reshape(-1, 1), num_instances, axis=-1)\n",
        "    load_scens = load_scens.T\n",
        "\n",
        "    # set zero load to be zero\n",
        "    load_scens[:, zero_loads_at_buses] = 0.\n",
        "\n",
        "    return load_scens"
      ],
      "metadata": {
        "id": "duh2qH2xxSRG"
      },
      "execution_count": 58,
      "outputs": []
    },
    {
      "cell_type": "markdown",
      "source": [
        "### Generate labels"
      ],
      "metadata": {
        "id": "VaS5dN5U2Dbr"
      }
    },
    {
      "cell_type": "code",
      "source": [
        "def generate_labels(inputDemands, num_scens=1):\n",
        "    numInstance = inputDemands.shape[0]\n",
        "\n",
        "    # *====== CONSTRUCT SCENARIOS FOR EACH INSTANCE =======\n",
        "    all_d_omega = np.zeros((num_scens, Num_Buses, numInstance))\n",
        "    for t in range(numInstance):\n",
        "        d_omega = load_sampling(inputDemands[t, :], 1)\n",
        "        all_d_omega[:, :, t] = d_omega\n",
        "\n",
        "    # define sets and indexes\n",
        "    # to be compatible with numpy data indexes, use Set() and initialize with numpy range\n",
        "    busSet = range(Num_Buses)\n",
        "    scenSet = range(num_scens)\n",
        "\n",
        "    bus_max_pow = Bus_Max_Pow.reshape(-1, 1)\n",
        "    bus_min_pow = Bus_Min_Pow.reshape(-1, 1)\n",
        "    flow_max_limit = Flow_Max_Limit.reshape(-1, 1)\n",
        "\n",
        "    # dictionary to store results for all instances\n",
        "    solns = dict()\n",
        "    solns['estimateTotalCost'] = []\n",
        "    solns['c_gen'] = []\n",
        "    solns['c_res'] = []\n",
        "    solns['c_fs'] = []\n",
        "    solns['c_rcs'] = []\n",
        "    solns['x'] = []\n",
        "    solns['rp'] = []\n",
        "    solns['rd'] = []\n",
        "    solns['net_load'] = []\n",
        "    solns['theta'] = []\n",
        "    solns['y'] = []\n",
        "\n",
        "    for t in range(numInstance):\n",
        "        start_time = time.time()\n",
        "\n",
        "        # *====== FOR EACH INSTANCE =======\n",
        "        d_omega = all_d_omega[:, :, t].T\n",
        "\n",
        "        net_load = d_omega - inputDemands[t:t+1, :].T\n",
        "        if t == 0:\n",
        "            print('net_load:', net_load.shape)\n",
        "\n",
        "        # define first-stage variables\n",
        "        x = cp.Variable(shape=(Num_Buses, 1), name='x')\n",
        "        rp = cp.Variable(shape=(Num_Buses, 1), name='rp')\n",
        "        rd = cp.Variable(shape=(Num_Buses, 1), name='rd')\n",
        "\n",
        "        # define second-stage variables\n",
        "        theta = cp.Variable(shape=(Num_Buses - 1, num_scens), name='theta')\n",
        "        y = cp.Variable(shape=(Num_Buses, num_scens), name='p')\n",
        "\n",
        "        # define constraints\n",
        "        # add operational and phase angle limits and power flow equations\n",
        "        constraints = [\n",
        "            # cp.sum(x) == np.sum(inputDemands[t, :]),\n",
        "            x <= bus_max_pow,\n",
        "            x >= bus_min_pow,\n",
        "            x + rp <= bus_max_pow,\n",
        "            x - rd >= bus_min_pow,\n",
        "            rp >= np.zeros_like(rp),\n",
        "            rd >= np.zeros_like(rd),\n",
        "            theta <= theta_max * np.ones_like(theta),\n",
        "            theta >= -theta_max * np.ones_like(theta),\n",
        "            x + y <= np.repeat(bus_max_pow, num_scens, axis=1),\n",
        "            x + y >= np.repeat(bus_min_pow, num_scens, axis=1),\n",
        "            Fns @ theta <= np.repeat(flow_max_limit, num_scens, axis=1),\n",
        "            Fns @ theta >= -np.repeat(flow_max_limit, num_scens, axis=1),\n",
        "            x + y == Bns @ theta + d_omega\n",
        "        ]\n",
        "\n",
        "        # if fsConstrainID == 'addFSBalance':\n",
        "        #     constraints += [cp.sum(x) == np.sum(inputDemands[t, :])]\n",
        "\n",
        "        c_gen = sum(Bus_Price[i] * x[i, 0]\n",
        "                    for i in busSet)\n",
        "\n",
        "        c_res = sum(Bus_Pos_Res_Price[i] * rp[i, 0] + Bus_Neg_Res_Price[i] * rd[i, 0]\n",
        "                    for i in busSet)\n",
        "\n",
        "        c_fs = c_gen + c_res\n",
        "\n",
        "        c_rcs = (1.0 / num_scens) * sum(\n",
        "            gamma_res * Bus_Pos_Res_Price[i] * cp.maximum(y[i, scen] - rp[i, 0], 0.0) +\n",
        "            gamma_res * Bus_Neg_Res_Price[i] * cp.maximum(- rd[i, 0] - y[i, scen], 0.0)\n",
        "            for scen in scenSet for i in busSet)\n",
        "\n",
        "        problem = cp.Problem(cp.Minimize(c_fs + c_rcs), constraints)\n",
        "\n",
        "        problem.solve()\n",
        "\n",
        "        # if problem.status not in [\"infeasible\", \"unbounded\"]:\n",
        "        #     # Otherwise, problem.value is inf or -inf, respectively.\n",
        "        #     print(\"Optimal value: %s\" % problem.value)\n",
        "        #     for variable in problem.variables():\n",
        "        #         print(\"Variable %s: value %s\" % (variable.name(), variable.value))\n",
        "\n",
        "        if problem.status in [\"infeasible\", \"unbounded\"]:\n",
        "            print(\"Model not solved to (sub)optimality using CVXPY!!!\")\n",
        "            print(\"solve_status: \", problem.status)\n",
        "            sys.exit(0)\n",
        "\n",
        "        print(\"Instance: %d Problem status: %s \" % (t, problem.status))\n",
        "\n",
        "        solns['estimateTotalCost'] += [c_fs.value.item() + c_rcs.value.item()]\n",
        "        solns['c_gen'] += [c_gen.value.item()]\n",
        "        solns['c_res'] += [c_res.value.item()]\n",
        "        solns['c_fs'] += [c_fs.value.item()]\n",
        "        solns['c_rcs'] += [c_rcs.value.item()]\n",
        "        solns['x'] += [list(x.value[:, 0])]\n",
        "        solns['rp'] += [list(rp.value[:, 0])]\n",
        "        solns['rd'] += [list(rd.value[:, 0])]\n",
        "        solns['net_load'] += [list(net_load[:, 0])]\n",
        "        solns['theta'] += [list(theta.value[:, 0])]\n",
        "        solns['y'] += [list(y.value[:, 0])]\n",
        "\n",
        "        print('Solving tims for instance %d is %.2f minutes.' % (t, (time.time() - start_time) / 60))\n",
        "\n",
        "    x_data = np.array(solns['x'])\n",
        "    rp_data = np.array(solns['rp'])\n",
        "    rd_data = np.array(solns['rd'])\n",
        "    net_load_data = np.array(solns['net_load'])\n",
        "    theta_data = np.array(solns['theta'])\n",
        "    y_data = np.array(solns['y'])\n",
        "\n",
        "    print('x_data:', x_data.shape)\n",
        "    print('rp_data:', rp_data.shape)\n",
        "    print('rd_data:', rd_data.shape)\n",
        "    print('net_load_data:', net_load_data.shape)\n",
        "    print('theta_data:', theta_data.shape)\n",
        "    print('y_data:', y_data.shape)\n",
        "\n",
        "    pre_train_fs_data = np.concatenate([inputDemands, x_data, rp_data, rd_data], axis=1)\n",
        "    pre_train_rcs_data = np.concatenate([net_load_data, y_data, theta_data, rp_data, rd_data], axis=1)\n",
        "\n",
        "    print('pre_train_fs_data:', pre_train_fs_data.shape)\n",
        "    print('pre_train_rcs_data:', pre_train_rcs_data.shape)\n",
        "\n",
        "    np.save(Data_Set_Path + 'pre_train_fs_data.npy', pre_train_fs_data)\n",
        "    np.save(Data_Set_Path + 'pre_train_rcs_data.npy', pre_train_rcs_data)\n",
        "\n",
        "    return pre_train_fs_data, pre_train_rcs_data"
      ],
      "metadata": {
        "id": "hsUkUjXj2GX7"
      },
      "execution_count": 59,
      "outputs": []
    },
    {
      "cell_type": "markdown",
      "source": [
        "### Get data ready"
      ],
      "metadata": {
        "id": "KdxoIgf92Oeo"
      }
    },
    {
      "cell_type": "code",
      "source": [
        "# Generate all datasets if needed\n",
        "if TORCH_GENERATION:\n",
        "    train_points_num = 60000\n",
        "    pre_train_points_num = 100\n",
        "    test_points_num = 1000\n",
        "\n",
        "    Nt = train_points_num + pre_train_points_num + test_points_num\n",
        "\n",
        "    all_instances = instances_sampling(nominal_loads, Nt, Scenario_Forecasts_Stdev_Factor)\n",
        "    train_instances = all_instances[:-test_points_num, :]\n",
        "\n",
        "    test_set = all_instances[-test_points_num:, :]\n",
        "    train_set = train_instances[:-pre_train_points_num, :]\n",
        "    pretrain_set = train_instances[-pre_train_points_num:, :]\n",
        "    print('train_set:', train_set.shape)\n",
        "    print('test_set:', test_set.shape)\n",
        "    print('pretrain_set:', pretrain_set.shape)\n",
        "\n",
        "    np.save(Data_Set_Path + 'all_instances.npy', all_instances)\n",
        "    np.save(Data_Set_Path + 'train_instances.npy', train_instances)\n",
        "    np.save(Data_Set_Path + 'test_set.npy', test_set)\n",
        "    np.save(Data_Set_Path + 'train_set.npy', train_set)\n",
        "    np.save(Data_Set_Path + 'pretrain_set.npy', pretrain_set)\n",
        "\n",
        "    pre_train_fs_data, pre_train_rcs_data = generate_labels(pretrain_set)\n",
        "\n",
        "    # generate a common set of MC scenarios\n",
        "    test_scens_num = 100\n",
        "    common_MCscenarios = np.zeros((test_scens_num, Num_Buses, test_points_num))\n",
        "    for t in range(test_points_num):\n",
        "        scens = load_sampling(test_set[t, :], test_scens_num)\n",
        "        common_MCscenarios[:, :, t] = scens\n",
        "\n",
        "    np.save(Data_Set_Path + 'common_MCscenarios_K100.npy', common_MCscenarios)\n",
        "\n",
        "else:\n",
        "    # all_instances = np.load(Data_Set_Path + 'all_instances.npy')\n",
        "    # train_instances = np.load(Data_Set_Path + 'train_instances.npy')\n",
        "\n",
        "    test_set = np.load(Data_Set_Path + 'test_set.npy')\n",
        "    # train_set = np.load(Data_Set_Path + 'train_set.npy')\n",
        "    # pretrain_set = np.load(Data_Set_Path + 'pretrain_set.npy')\n",
        "\n",
        "    # pre_train_fs_data = np.load(Data_Set_Path + 'pre_train_fs_data.npy')\n",
        "    # pre_train_rcs_data = np.load(Data_Set_Path + 'pre_train_rcs_data.npy')\n",
        "\n",
        "    common_MCscenarios = np.load(Data_Set_Path + 'common_MCscenarios_K100.npy')\n",
        "\n",
        "# inputScalingFactor = np.max(train_instances)\n",
        "# print('inputScalingFactor:', inputScalingFactor)\n"
      ],
      "metadata": {
        "id": "wFSpCxLIxZxh"
      },
      "execution_count": 60,
      "outputs": []
    },
    {
      "cell_type": "markdown",
      "source": [
        "## Run Methods"
      ],
      "metadata": {
        "id": "KQKzh-o7N4Dj"
      }
    },
    {
      "cell_type": "markdown",
      "source": [
        "### Nominal Loads"
      ],
      "metadata": {
        "id": "8UBFMA4Qx3MG"
      }
    },
    {
      "cell_type": "code",
      "source": [
        "if RUN_PENALTY_METHODII_NOMINAL:\n",
        "    penalty_methodII_nominal_soln = determine_affine_policyII(nominal_loads.flatten(), num_scens=100, \n",
        "                                                              file_name='penalty_methodII_nominal_soln_K100')\n",
        "\n",
        "    lambda_soln = np.array(penalty_methodII_nominal_soln['lambda'])\n",
        "    print('lambda_soln:', lambda_soln.shape)"
      ],
      "metadata": {
        "id": "yRQi5M7biszu",
        "colab": {
          "base_uri": "https://localhost:8080/"
        },
        "outputId": "8d2b651e-ce51-44b6-979c-1c8149b0184a"
      },
      "execution_count": 83,
      "outputs": [
        {
          "output_type": "stream",
          "name": "stdout",
          "text": [
            "d_omega: (100, 118)\n",
            "sumRealTimeDemand_iter: (100,)\n",
            "solve status:  ok\n",
            "termination condition:  optimal\n",
            "x_soln: (118,)\n",
            "rp_soln: (118,)\n",
            "rd_soln: (118,)\n",
            "lambda_soln: (118,)\n",
            "posResViol_soln: (118, 100)\n",
            "negResViol_soln: (118, 100)\n",
            "c_gen: (1,)\n",
            "c_res: (1,)\n",
            "reserve_penalties: (1, 100)\n",
            "Solving tims is 48.27 minutes.\n",
            "lambda_soln: (1, 118)\n"
          ]
        }
      ]
    },
    {
      "cell_type": "code",
      "source": [
        "# sanity check\n",
        "penalty_methodII_nominal_soln = json.load(open(Results_Path + 'penalty_methodII_nominal_soln_K100', 'r'))\n",
        "print(penalty_methodII_nominal_soln.keys())\n",
        "\n",
        "lambda_soln = np.array(penalty_methodII_nominal_soln['lambda'])\n",
        "print('lambda_soln:', lambda_soln.shape)\n",
        "visualize_bar(range(Num_Buses), lambda_soln[0,:], 'lambda', 'Buses', 'Distribution Factor')\n",
        "\n",
        "x_pII_nominal = np.array(penalty_methodII_nominal_soln['x'])\n",
        "print('x_pII_nominal shape:', x_pII_nominal.shape)\n",
        "visualize_bar(range(Num_Buses), x_pII_nominal[0,:], 'x_pII', 'Buses', 'Power')\n",
        "\n",
        "print('Results on nominal loads:')\n",
        "print(\"total cost\", penalty_methodII_nominal_soln['estimateTotalCost'])\n",
        "print(\"gen cost\", penalty_methodII_nominal_soln['c_gen'])\n",
        "print(\"res cost\", penalty_methodII_nominal_soln['c_res'])\n",
        "print(\"recourse cost\", penalty_methodII_nominal_soln['c_rcs'])\n",
        "print(\"lineViol\", penalty_methodII_nominal_soln['lineViol'])\n",
        "print(\"genBoundViol\", penalty_methodII_nominal_soln['genBoundViol'])"
      ],
      "metadata": {
        "colab": {
          "base_uri": "https://localhost:8080/",
          "height": 805
        },
        "id": "LkSR6s6QVosV",
        "outputId": "f6506ac9-1426-4ed2-c0dc-9768162f0242"
      },
      "execution_count": 84,
      "outputs": [
        {
          "output_type": "stream",
          "name": "stdout",
          "text": [
            "dict_keys(['estimateTotalCost', 'c_gen', 'c_res', 'c_fs', 'c_rcs', 'x', 'rp', 'rd', 'lambda', 'time', 'lineViol', 'genBoundViol'])\n",
            "lambda_soln: (1, 118)\n"
          ]
        },
        {
          "output_type": "stream",
          "name": "stderr",
          "text": [
            "<ipython-input-76-af0e9bcea6c9>:5: MatplotlibDeprecationWarning: Adding an axes using the same arguments as a previous axes currently reuses the earlier instance.  In a future version, a new instance will always be created and returned.  Meanwhile, this warning can be suppressed, and the future behavior ensured, by passing a unique label to each axes instance.\n",
            "  ax = fig.add_subplot(1, 1, 1)\n"
          ]
        },
        {
          "output_type": "display_data",
          "data": {
            "text/plain": [
              "<Figure size 504x288 with 1 Axes>"
            ],
            "image/png": "[encoded data removed]"
          },
          "metadata": {
            "needs_background": "light"
          }
        },
        {
          "output_type": "stream",
          "name": "stdout",
          "text": [
            "x_pII_nominal shape: (1, 118)\n"
          ]
        },
        {
          "output_type": "display_data",
          "data": {
            "text/plain": [
              "<Figure size 504x288 with 1 Axes>"
            ],
            "image/png": "[encoded data removed]"
          },
          "metadata": {
            "needs_background": "light"
          }
        },
        {
          "output_type": "stream",
          "name": "stdout",
          "text": [
            "Results on nominal loads:\n",
            "total cost [3009.9805730300623]\n",
            "gen cost [2915.1229703944928]\n",
            "res cost [80.0913292544628]\n",
            "recourse cost [14.766273381106794]\n",
            "lineViol [3.054419171769759]\n",
            "genBoundViol [0.20915186805800104]\n"
          ]
        }
      ]
    },
    {
      "cell_type": "markdown",
      "source": [
        "### Testing"
      ],
      "metadata": {
        "id": "7GlG9seDx7mG"
      }
    },
    {
      "cell_type": "code",
      "source": [
        "if RUN_PENALTY_METHODII:\n",
        "    # consider the training time budget, can use 50 scenarios for solving\n",
        "    penalty_methodII_soln_results = run_penalty_methodII(test_set[:1, :], num_scens=100, \n",
        "                                                         lambda_value=lambda_soln.T, \n",
        "                                                         file_name='penalty_methodII_soln_K100')"
      ],
      "metadata": {
        "colab": {
          "base_uri": "https://localhost:8080/"
        },
        "id": "EAIyTG5whoBr",
        "outputId": "9cf74387-09a5-48dc-ad8c-0b576138a22d"
      },
      "execution_count": 85,
      "outputs": [
        {
          "output_type": "stream",
          "name": "stdout",
          "text": [
            "d_omega: (118, 100)\n",
            "total_forecated_demand: 425.4987051375464\n",
            "total_rt_demand: (1, 100)\n",
            "lambda: (118, 1)\n",
            "gen_cost shape: (1, 1)\n",
            "res_cost shape: (1, 1)\n",
            "fs_cost shape: ()\n",
            "reserve_penalties shape: (1, 100)\n",
            "recourse_cost shape: ()\n",
            "gen_penalties shape: (118, 100)\n",
            "gen_penalty_cost shape: ()\n",
            "Instance: 0 Problem status: optimal \n",
            "Solving tims for instance 0 is 3.06 minutes.\n"
          ]
        }
      ]
    },
    {
      "cell_type": "code",
      "source": [
        "if RUN_PENALTY_METHODII:\n",
        "    # consider the training time budget, can use 50 scenarios for solving\n",
        "    penalty_methodII_soln_results_limit_flow = run_penalty_methodII_limit_flow(test_set[:1, :], num_scens=100, \n",
        "                                                         lambda_value=lambda_soln.T, \n",
        "                                                         file_name='penalty_methodII_soln_K100_limit_flow')"
      ],
      "metadata": {
        "colab": {
          "base_uri": "https://localhost:8080/"
        },
        "id": "ynlsdw-mxrgN",
        "outputId": "adbb95bc-7271-46a1-83cc-9fbb4bf6f0df"
      },
      "execution_count": 86,
      "outputs": [
        {
          "output_type": "stream",
          "name": "stdout",
          "text": [
            "d_omega: (118, 100)\n",
            "total_forecated_demand: 425.4987051375464\n",
            "total_rt_demand: (1, 100)\n",
            "lambda: (118, 1)\n",
            "gen_cost shape: (1, 1)\n",
            "res_cost shape: (1, 1)\n",
            "fs_cost shape: ()\n",
            "reserve_penalties shape: (1, 100)\n",
            "recourse_cost shape: ()\n",
            "gen_penalties shape: (118, 100)\n",
            "gen_penalty_cost shape: ()\n",
            "line_penalty_cost shape: ()\n",
            "Instance: 0 Problem status: optimal \n",
            "Solving tims for instance 0 is 9.33 minutes.\n"
          ]
        }
      ]
    },
    {
      "cell_type": "markdown",
      "source": [
        "### Sanity Check\n"
      ],
      "metadata": {
        "id": "__-Cx0CFxeJb"
      }
    },
    {
      "cell_type": "code",
      "source": [
        "# sanity check\n",
        "def sanity_check(soln_results):\n",
        "    print(soln_results.keys())\n",
        "\n",
        "    x = np.array(soln_results['x'])\n",
        "    print('x shape:', x.shape)\n",
        "    print('x:', np.sum(x))\n",
        "    visualize_bar(range(Num_Buses), x[0, :], 'x', 'Buses', 'Power')\n",
        "    visualize_bar(range(Num_Buses), Bus_Price[:, 0], 'price', 'Buses', '$/MW')\n",
        "    # visualize(range(Num_Buses), lambda_soln[0,:], r'$\\lambda$', 'Buses', 'Power')\n",
        "\n",
        "    rp = np.array(soln_results['rp'])\n",
        "    print('rp shape:', rp.shape)\n",
        "    print('rp:', np.sum(rp))\n",
        "    visualize_bar(range(Num_Buses), rp[0, :], 'rp', 'Buses', 'Power')\n",
        "\n",
        "    rd = np.array(soln_results['rd'])\n",
        "    print('rd shape:', rd.shape)\n",
        "    print('rd:', np.sum(rd))\n",
        "    visualize_bar(range(Num_Buses), rd[0, :], 'rd', 'Buses', 'Power')\n",
        "\n",
        "    print(\"total cost\", soln_results['estimateTotalCost'])\n",
        "    print(\"gen cost\", soln_results['c_gen'])\n",
        "    print(\"res cost\", soln_results['c_res'])\n",
        "    print(\"recourse cost\", soln_results['c_rcs'])\n",
        "    print(\"gen_penalties\", soln_results['gen_penalties'])\n",
        "    # print(\"line_penalties\", soln_results['line_penalties'])\n"
      ],
      "metadata": {
        "id": "3i4r5peNxhBS"
      },
      "execution_count": 95,
      "outputs": []
    },
    {
      "cell_type": "code",
      "source": [
        "penalty_methodII_soln_results = json.load(open(Results_Path + 'penalty_methodII_soln_K100', 'r'))\n",
        "penalty_methodII_soln_results_limit_flow = json.load(open(Results_Path + 'penalty_methodII_soln_K100_limit_flow', 'r'))"
      ],
      "metadata": {
        "id": "MS-pdWd_w9Vs"
      },
      "execution_count": 88,
      "outputs": []
    },
    {
      "cell_type": "code",
      "source": [
        "sanity_check(penalty_methodII_soln_results)\n",
        "# sanity_check(penalty_methodII_soln_results_limit_flow)"
      ],
      "metadata": {
        "colab": {
          "base_uri": "https://localhost:8080/",
          "height": 1000
        },
        "id": "GfJZL1HxxtHG",
        "outputId": "37ec80ef-7129-49ab-dd77-e3018b21a0b2"
      },
      "execution_count": 96,
      "outputs": [
        {
          "output_type": "stream",
          "name": "stdout",
          "text": [
            "dict_keys(['estimateTotalCost', 'c_gen', 'c_res', 'c_fs', 'c_rcs', 'x', 'rp', 'rd', 'gen_penalties', 'line_penalties'])\n",
            "x shape: (1, 118)\n",
            "x: 419.09993538118795\n"
          ]
        },
        {
          "output_type": "stream",
          "name": "stderr",
          "text": [
            "<ipython-input-76-af0e9bcea6c9>:5: MatplotlibDeprecationWarning: Adding an axes using the same arguments as a previous axes currently reuses the earlier instance.  In a future version, a new instance will always be created and returned.  Meanwhile, this warning can be suppressed, and the future behavior ensured, by passing a unique label to each axes instance.\n",
            "  ax = fig.add_subplot(1, 1, 1)\n"
          ]
        },
        {
          "output_type": "display_data",
          "data": {
            "text/plain": [
              "<Figure size 504x288 with 1 Axes>"
            ],
            "image/png": "[encoded data removed]"
          },
          "metadata": {
            "needs_background": "light"
          }
        },
        {
          "output_type": "display_data",
          "data": {
            "text/plain": [
              "<Figure size 504x288 with 1 Axes>"
            ],
            "image/png": "[encoded data removed]"
          },
          "metadata": {
            "needs_background": "light"
          }
        },
        {
          "output_type": "stream",
          "name": "stdout",
          "text": [
            "rp shape: (1, 118)\n",
            "rp: 11.649971613145137\n"
          ]
        },
        {
          "output_type": "display_data",
          "data": {
            "text/plain": [
              "<Figure size 504x288 with 1 Axes>"
            ],
            "image/png": "[encoded data removed]"
          },
          "metadata": {
            "needs_background": "light"
          }
        },
        {
          "output_type": "stream",
          "name": "stdout",
          "text": [
            "rd shape: (1, 118)\n",
            "rd: -6.69573363103491e-07\n"
          ]
        },
        {
          "output_type": "display_data",
          "data": {
            "text/plain": [
              "<Figure size 504x288 with 1 Axes>"
            ],
            "image/png": "[encoded data removed]"
          },
          "metadata": {
            "needs_background": "light"
          }
        },
        {
          "output_type": "stream",
          "name": "stdout",
          "text": [
            "total cost [3021.9673118466158]\n",
            "gen cost [2933.896413505998]\n",
            "res cost [81.19892198093349]\n",
            "recourse cost [6.871976359684161]\n",
            "gen_penalties [3.1632959329772153e-13]\n"
          ]
        }
      ]
    },
    {
      "cell_type": "markdown",
      "source": [
        "### Evaluating"
      ],
      "metadata": {
        "id": "GCyv6iJgx-oX"
      }
    },
    {
      "cell_type": "code",
      "source": [
        "def eval(fname_to_open, fname_to_save):\n",
        "\n",
        "    soln_results = json.load(open(Results_Path + fname_to_open, 'r'))\n",
        "\n",
        "    eval_results, _ = solve_recourse(test_set[:1, :], common_MCscenarios, \n",
        "                                     soln_results, fname_to_save, return_rcsSolns=False)\n",
        "    \n",
        "    # sanity check\n",
        "    eval_results = json.load(open(Results_Path + fname_to_save, 'r'))\n",
        "\n",
        "    print(eval_results.keys())\n",
        "\n",
        "    print('Evaluation results on test instances:')\n",
        "    print(\"eval total cost\", eval_results['evaluateTotalCost'])\n",
        "    print(\"eval first-stage cost\", eval_results['fsCost'])\n",
        "    print(\"eval recourse cost\", eval_results['rcsCost'])\n",
        "    print(\"eval pos_res_cost\", eval_results['pos_res_cost'])\n",
        "    print(\"eval neg_res_cost\", eval_results['neg_res_cost'])\n",
        "    \n",
        "\n",
        "if EVAL_PENALTY_METHODII:\n",
        "    # eval('penalty_methodII_soln_K100_limit_flow', 'penalty_methodII_eval_limit_flow')\n",
        "    eval('penalty_methodII_soln_K100', 'penalty_methodII_eval')"
      ],
      "metadata": {
        "colab": {
          "base_uri": "https://localhost:8080/"
        },
        "id": "jbdqYEIvn0k4",
        "outputId": "015e16b5-af36-410f-882b-431013ea8f55"
      },
      "execution_count": 97,
      "outputs": [
        {
          "output_type": "stream",
          "name": "stdout",
          "text": [
            "x_soln: (118, 1)\n",
            "rp_soln: (118, 1)\n",
            "rd_soln: (118, 1)\n",
            "fsCost: (1,)\n",
            "pos_res_cost shape: (1, 100)\n",
            "recourse_cost shape: ()\n",
            "Instance: 0 Problem status: optimal \n",
            "Evaluation tims for instance 0 is 0.03 minutes.\n",
            "dict_keys(['Status', 'fsCost', 'rcsCost', 'evaluateTotalCost', 'pos_res_cost', 'neg_res_cost'])\n",
            "Evaluation results on test instances:\n",
            "eval total cost [42697.194823256956]\n",
            "eval first-stage cost [1643.513045670023]\n",
            "eval recourse cost [41053.681777586935]\n",
            "eval pos_res_cost [4105.3681777586935]\n",
            "eval neg_res_cost [0.0]\n"
          ]
        }
      ]
    },
    {
      "cell_type": "code",
      "source": [
        "neural_solver_eval_results = json.load(open(Results_Path + 'neural_solver_eval', 'r'))\n",
        "print(neural_solver_eval_results.keys())\n",
        "print(neural_solver_eval_results['evaluateTotalCost'])"
      ],
      "metadata": {
        "colab": {
          "base_uri": "https://localhost:8080/"
        },
        "id": "e9Pmu-IDp_HT",
        "outputId": "39c56da8-d0f3-410d-c187-25148d0dc516"
      },
      "execution_count": 93,
      "outputs": [
        {
          "output_type": "stream",
          "name": "stdout",
          "text": [
            "dict_keys(['Status', 'fsCost', 'rcsCost', 'evaluateTotalCost'])\n",
            "[3223.1316438969975, 3116.6110483316406, 3145.0806544070715, 3183.359060804132, 3175.1238090859497, 3182.502445448652, 3104.740505718804, 3101.0661573663288, 3307.7091020254074, 3139.182784513401, 3173.587532306149, 3285.82021274716, 3266.582602059262, 3230.0236654844152, 3126.300561976192, 3218.6225007715234, 3125.9631645627574, 3252.924748382131, 3207.59597351517, 3216.9209868208723]\n"
          ]
        }
      ]
    },
    {
      "cell_type": "markdown",
      "source": [
        "### Visualize"
      ],
      "metadata": {
        "id": "caSsNocyyo7s"
      }
    },
    {
      "cell_type": "code",
      "source": [
        "visualize_bar(range(Num_Buses), train_set[10,:], 'train set', 'Buses', 'Load')\n",
        "visualize_bar(range(Num_Buses), test_set[10,:], 'test set', 'Buses', 'Load')\n",
        "visualize_bar(range(Num_Buses), pretrain_set[10,:], 'pretrain set', 'Buses', 'Load')\n",
        "\n",
        "# pre_train_data1=[inputDemands, x_data, rp_data, rd_data]\n",
        "# pre_train_data2=[net_load_data, y_data, theta_data]\n",
        "i = Num_Buses\n",
        "j = int(Num_Buses*2)\n",
        "m = j+(Num_Buses-1)\n",
        "visualize_bar(range(Num_Buses), pre_train_fs_data[10,i:j], 'x', 'Buses', 'Power')\n",
        "visualize_bar(range(Num_Buses), pre_train_rcs_data[10,i:j], 'y', 'Buses', 'Power')\n",
        "visualize_bar(range(Num_Buses-1), pre_train_rcs_data[10,j:m], r'$\\theta$', 'ns', 'Phase Angle')\n",
        "\n",
        "visualize_bar(range(Num_Buses), common_MCscenarios[0,:,10], 'scenario', 'Buses', 'Load')\n",
        " "
      ],
      "metadata": {
        "colab": {
          "base_uri": "https://localhost:8080/",
          "height": 1000
        },
        "id": "ujfyvNwHyqxY",
        "outputId": "d6a2149a-81da-4b47-cfce-42a7135c66df"
      },
      "execution_count": null,
      "outputs": [
        {
          "output_type": "stream",
          "name": "stderr",
          "text": [
            "<ipython-input-21-94dc88053096>:5: MatplotlibDeprecationWarning: Adding an axes using the same arguments as a previous axes currently reuses the earlier instance.  In a future version, a new instance will always be created and returned.  Meanwhile, this warning can be suppressed, and the future behavior ensured, by passing a unique label to each axes instance.\n",
            "  ax = fig.add_subplot(1, 1, 1)\n"
          ]
        },
        {
          "output_type": "display_data",
          "data": {
            "text/plain": [
              "<Figure size 504x288 with 1 Axes>"
            ],
            "image/png": "[encoded data removed]"
          },
          "metadata": {
            "needs_background": "light"
          }
        },
        {
          "output_type": "stream",
          "name": "stderr",
          "text": [
            "<ipython-input-21-94dc88053096>:5: MatplotlibDeprecationWarning: Adding an axes using the same arguments as a previous axes currently reuses the earlier instance.  In a future version, a new instance will always be created and returned.  Meanwhile, this warning can be suppressed, and the future behavior ensured, by passing a unique label to each axes instance.\n",
            "  ax = fig.add_subplot(1, 1, 1)\n"
          ]
        },
        {
          "output_type": "display_data",
          "data": {
            "text/plain": [
              "<Figure size 504x288 with 1 Axes>"
            ],
            "image/png": "[encoded data removed]"
          },
          "metadata": {
            "needs_background": "light"
          }
        },
        {
          "output_type": "stream",
          "name": "stderr",
          "text": [
            "<ipython-input-21-94dc88053096>:5: MatplotlibDeprecationWarning: Adding an axes using the same arguments as a previous axes currently reuses the earlier instance.  In a future version, a new instance will always be created and returned.  Meanwhile, this warning can be suppressed, and the future behavior ensured, by passing a unique label to each axes instance.\n",
            "  ax = fig.add_subplot(1, 1, 1)\n"
          ]
        },
        {
          "output_type": "display_data",
          "data": {
            "text/plain": [
              "<Figure size 504x288 with 1 Axes>"
            ],
            "image/png": "[encoded data removed]"
          },
          "metadata": {
            "needs_background": "light"
          }
        },
        {
          "output_type": "stream",
          "name": "stderr",
          "text": [
            "<ipython-input-21-94dc88053096>:5: MatplotlibDeprecationWarning: Adding an axes using the same arguments as a previous axes currently reuses the earlier instance.  In a future version, a new instance will always be created and returned.  Meanwhile, this warning can be suppressed, and the future behavior ensured, by passing a unique label to each axes instance.\n",
            "  ax = fig.add_subplot(1, 1, 1)\n"
          ]
        },
        {
          "output_type": "display_data",
          "data": {
            "text/plain": [
              "<Figure size 504x288 with 1 Axes>"
            ],
            "image/png": "[encoded data removed]"
          },
          "metadata": {
            "needs_background": "light"
          }
        },
        {
          "output_type": "stream",
          "name": "stderr",
          "text": [
            "<ipython-input-21-94dc88053096>:5: MatplotlibDeprecationWarning: Adding an axes using the same arguments as a previous axes currently reuses the earlier instance.  In a future version, a new instance will always be created and returned.  Meanwhile, this warning can be suppressed, and the future behavior ensured, by passing a unique label to each axes instance.\n",
            "  ax = fig.add_subplot(1, 1, 1)\n"
          ]
        },
        {
          "output_type": "display_data",
          "data": {
            "text/plain": [
              "<Figure size 504x288 with 1 Axes>"
            ],
            "image/png": "[encoded data removed]"
          },
          "metadata": {
            "needs_background": "light"
          }
        },
        {
          "output_type": "stream",
          "name": "stderr",
          "text": [
            "<ipython-input-21-94dc88053096>:5: MatplotlibDeprecationWarning: Adding an axes using the same arguments as a previous axes currently reuses the earlier instance.  In a future version, a new instance will always be created and returned.  Meanwhile, this warning can be suppressed, and the future behavior ensured, by passing a unique label to each axes instance.\n",
            "  ax = fig.add_subplot(1, 1, 1)\n"
          ]
        },
        {
          "output_type": "display_data",
          "data": {
            "text/plain": [
              "<Figure size 504x288 with 1 Axes>"
            ],
            "image/png": "[encoded data removed]"
          },
          "metadata": {
            "needs_background": "light"
          }
        },
        {
          "output_type": "stream",
          "name": "stderr",
          "text": [
            "<ipython-input-21-94dc88053096>:5: MatplotlibDeprecationWarning: Adding an axes using the same arguments as a previous axes currently reuses the earlier instance.  In a future version, a new instance will always be created and returned.  Meanwhile, this warning can be suppressed, and the future behavior ensured, by passing a unique label to each axes instance.\n",
            "  ax = fig.add_subplot(1, 1, 1)\n"
          ]
        },
        {
          "output_type": "display_data",
          "data": {
            "text/plain": [
              "<Figure size 504x288 with 1 Axes>"
            ],
            "image/png": "[encoded data removed]"
          },
          "metadata": {
            "needs_background": "light"
          }
        }
      ]
    },
    {
      "cell_type": "code",
      "source": [],
      "metadata": {
        "id": "SbZYq32zNP5M"
      },
      "execution_count": null,
      "outputs": []
    }
  ]
}